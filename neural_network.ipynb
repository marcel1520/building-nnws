{
 "cells": [
  {
   "cell_type": "markdown",
   "id": "25548391",
   "metadata": {},
   "source": [
    "# L1 Neurons"
   ]
  },
  {
   "cell_type": "markdown",
   "id": "6e9d699c",
   "metadata": {},
   "source": [
    "## Neuron with 3 inputs"
   ]
  },
  {
   "cell_type": "code",
   "execution_count": 2,
   "id": "6e4cea38",
   "metadata": {},
   "outputs": [
    {
     "data": {
      "text/plain": [
       "2.3"
      ]
     },
     "execution_count": 2,
     "metadata": {},
     "output_type": "execute_result"
    }
   ],
   "source": [
    "inputs = [1, 2, 3]\n",
    "weights = [0.2, 0.8, -0.5]\n",
    "bias = 2\n",
    "\n",
    "output = ((inputs[0]*weights[0])\n",
    "         +(inputs[1]*weights[1])\n",
    "         +(inputs[2]*weights[2])\n",
    "         + bias)\n",
    "\n",
    "output"
   ]
  },
  {
   "cell_type": "markdown",
   "id": "10a783ad",
   "metadata": {},
   "source": [
    "## Neuron with 4 inputs"
   ]
  },
  {
   "cell_type": "code",
   "execution_count": 3,
   "id": "8a7b279d",
   "metadata": {},
   "outputs": [
    {
     "data": {
      "text/plain": [
       "4.8"
      ]
     },
     "execution_count": 3,
     "metadata": {},
     "output_type": "execute_result"
    }
   ],
   "source": [
    "inputs = [1, 2, 3, 2.5]\n",
    "weights = [0.2, 0.8, -0.5, 1.0]\n",
    "bias = 2\n",
    "\n",
    "output = ((inputs[0] * weights[0]) \n",
    "        + (inputs[1] * weights[1]) \n",
    "        + (inputs[2] * weights[2]) \n",
    "        + (inputs[3] * weights[3]) \n",
    "        +  bias)\n",
    "\n",
    "output"
   ]
  },
  {
   "cell_type": "markdown",
   "id": "cb324801",
   "metadata": {},
   "source": [
    "### number of weights per neuron depending on the number of neurons in the previous layer or the number of input dimensions"
   ]
  },
  {
   "cell_type": "markdown",
   "id": "0222bafc",
   "metadata": {},
   "source": [
    "## Layer of Neurons manuell"
   ]
  },
  {
   "cell_type": "code",
   "execution_count": 4,
   "id": "0aef08cd",
   "metadata": {},
   "outputs": [
    {
     "data": {
      "text/plain": [
       "[[4.8], [1.21], [2.385]]"
      ]
     },
     "execution_count": 4,
     "metadata": {},
     "output_type": "execute_result"
    }
   ],
   "source": [
    "inputs = [1, 2, 3, 2.5]\n",
    "\n",
    "\n",
    "weights = [[0.2, 0.8, -0.5, 1.0],\n",
    "           [0.5, -0.91, 0.26, -0.5],\n",
    "           [-0.26, -0.27, 0.17, 0.87]]\n",
    "\n",
    "\n",
    "biases = [2, 3, 0.5]\n",
    "\n",
    "\n",
    "output = [[(inputs[0] * weights[0][0]) \n",
    "         + (inputs[1] * weights[0][1]) \n",
    "         + (inputs[2] * weights[0][2]) \n",
    "         + (inputs[3] * weights[0][3]) \n",
    "         + biases[0]],\n",
    "\n",
    "          [(inputs[0] * weights[1][0]) \n",
    "         + (inputs[1] * weights[1][1]) \n",
    "         + (inputs[2] * weights[1][2]) \n",
    "         + (inputs[3] * weights[1][3]) \n",
    "         + biases[1]],\n",
    "\n",
    "          [(inputs[0] * weights[2][0]) \n",
    "         + (inputs[1] * weights[2][1]) \n",
    "         + (inputs[2] * weights[2][2]) \n",
    "         + (inputs[3] * weights[2][3]) \n",
    "         + biases[2]]]\n",
    "output"
   ]
  },
  {
   "cell_type": "markdown",
   "id": "44ff0a98",
   "metadata": {},
   "source": [
    "## Layer of Neurons loop"
   ]
  },
  {
   "cell_type": "code",
   "execution_count": 5,
   "id": "9599b047",
   "metadata": {},
   "outputs": [
    {
     "name": "stdout",
     "output_type": "stream",
     "text": [
      "[4.8, 1.21, 2.385]\n"
     ]
    }
   ],
   "source": [
    "inputs = [1, 2, 3, 2.5]\n",
    "\n",
    "\n",
    "weights = [[0.2, 0.8, -0.5, 1.0],\n",
    "           [0.5, -0.91, 0.26, -0.5],\n",
    "           [-0.26, -0.27, 0.17, 0.87]]\n",
    "\n",
    "\n",
    "biases = [2, 3, 0.5]\n",
    "\n",
    "layer_outputs = []\n",
    "\n",
    "for neuron_weights, neuron_bias in zip(weights, biases):\n",
    "    neuron_output = 0\n",
    "    for n_input, weight in zip(inputs, neuron_weights):\n",
    "        neuron_output += n_input * weight\n",
    "    neuron_output += neuron_bias\n",
    "    layer_outputs.append(neuron_output)\n",
    "print(layer_outputs)"
   ]
  },
  {
   "cell_type": "markdown",
   "id": "59f3e14b",
   "metadata": {},
   "source": [
    "# L2 Dot Product"
   ]
  },
  {
   "cell_type": "code",
   "execution_count": 6,
   "id": "bc758bb2",
   "metadata": {},
   "outputs": [],
   "source": [
    "import numpy as np\n",
    "import torch"
   ]
  },
  {
   "cell_type": "markdown",
   "id": "f0e1f008",
   "metadata": {},
   "source": [
    "## Dot Product Rules"
   ]
  },
  {
   "cell_type": "markdown",
   "id": "ba3331db",
   "metadata": {},
   "source": [
    "### for computing dot products avoid mixing between torch and numpy\n",
    "\n",
    "### using pytorch --> torch.tensor() to create input data and torch.matmul() to compute dot product\n",
    "\n",
    "### using numpy --> np.array() to create input data and np.dot() to compute dot product\n",
    "\n",
    "### Check type using type() and dimensions using .shape for both"
   ]
  },
  {
   "cell_type": "code",
   "execution_count": 7,
   "id": "02918bfd",
   "metadata": {},
   "outputs": [
    {
     "name": "stdout",
     "output_type": "stream",
     "text": [
      "tensor([[37, 26]])\n",
      "[[37 26]]\n",
      "<class 'torch.Tensor'> <class 'numpy.ndarray'>\n",
      "torch.Size([1, 3]) torch.Size([2, 3]) (1, 3) (2, 3)\n"
     ]
    }
   ],
   "source": [
    "tens1 = torch.tensor([[2, 3, 4]])\n",
    "\n",
    "tens2 = torch.tensor([[4, 3, 5], \n",
    "                      [3, 4, 2]])\n",
    "\n",
    "\n",
    "tens3 = np.array([[2, 3, 4]])\n",
    "\n",
    "tens4 = np.array([[4, 3, 5], \n",
    "                  [3, 4, 2]])\n",
    "\n",
    "\n",
    "print(torch.matmul(tens1, tens2.T))\n",
    "print(np.dot(tens3, tens4.T))\n",
    "\n",
    "\n",
    "print(type(tens1), type(tens3))\n",
    "print(tens1.shape, tens2.shape, tens3.shape, tens4.shape)"
   ]
  },
  {
   "cell_type": "code",
   "execution_count": 8,
   "id": "6b9a29a8",
   "metadata": {},
   "outputs": [
    {
     "name": "stdout",
     "output_type": "stream",
     "text": [
      "Vector 1: tensor([[1, 2, 3]])\n",
      "\n",
      "Size V1: torch.Size([1, 3])\n",
      "\n",
      "Vector 2:\n",
      "tensor([[2],\n",
      "        [3],\n",
      "        [4]])\n",
      "\n",
      "Size V2: torch.Size([3, 1])\n",
      "\n",
      "Matrix 1:\n",
      "tensor([[3, 4, 5, 7],\n",
      "        [4, 2, 5, 1],\n",
      "        [5, 1, 1, 3]])\n",
      "\n",
      "Size M1: torch.Size([3, 4])\n",
      "\n",
      "Matrix 2:\n",
      "tensor([[5, 1, 2],\n",
      "        [5, 4, 8],\n",
      "        [7, 3, 5],\n",
      "        [4, 2, 1]])\n",
      "\n",
      "Size M2: torch.Size([4, 3])\n",
      "\n",
      "V1 * V2 --> Result Size: torch.Size([1, 1])\n",
      "V1 * M1 --> Result Size: torch.Size([1, 4])\n",
      "V2 * V1 --> Result Size: torch.Size([3, 3])\n",
      "M1 * M2 --> Result Size: torch.Size([3, 3])\n",
      "M2 * V2 --> Result Size: torch.Size([4, 1])\n",
      "M2 * M1 --> Result Size: torch.Size([4, 4])\n"
     ]
    }
   ],
   "source": [
    "v1 = torch.tensor([[1, 2, 3]])\n",
    "\n",
    "v2 = torch.tensor([[2], \n",
    "                   [3], \n",
    "                   [4]])\n",
    "\n",
    "\n",
    "m1 = torch.tensor([[3, 4, 5, 7], \n",
    "                   [4, 2, 5, 1],\n",
    "                   [5, 1, 1, 3]])\n",
    "\n",
    "m2 = torch.tensor([[5, 1, 2],\n",
    "                   [5, 4, 8],\n",
    "                   [7, 3, 5],\n",
    "                   [4, 2, 1]])\n",
    "\n",
    "\n",
    "v1v2 = torch.matmul(v1, v2)\n",
    "v1m1 = torch.matmul(v1, m1)\n",
    "v2v1 = torch.matmul(v2, v1)\n",
    "m1m2 = torch.matmul(m1, m2)\n",
    "m2v2 = torch.matmul(m2, v2)\n",
    "m2m1 = torch.matmul(m2, m1)\n",
    "\n",
    "\n",
    "\n",
    "print(f\"Vector 1: {v1}\\n\\nSize V1: {v1.shape}\\n\")\n",
    "print(f\"Vector 2:\\n{v2}\\n\\nSize V2: {v2.shape}\\n\")\n",
    "\n",
    "\n",
    "print(f\"Matrix 1:\\n{m1}\\n\\nSize M1: {m1.shape}\\n\")\n",
    "print(f\"Matrix 2:\\n{m2}\\n\\nSize M2: {m2.shape}\")\n",
    "\n",
    "print(f\"\\nV1 * V2 --> Result Size: {v1v2.shape}\\nV1 * M1 --> Result Size: {v1m1.shape}\\nV2 * V1 --> Result Size: {v2v1.shape}\")\n",
    "print(f\"M1 * M2 --> Result Size: {m1m2.shape}\\nM2 * V2 --> Result Size: {m2v2.shape}\\nM2 * M1 --> Result Size: {m2m1.shape}\")"
   ]
  },
  {
   "cell_type": "markdown",
   "id": "8793a7da",
   "metadata": {},
   "source": [
    "## Dot Product between Vector and Matrix from Array"
   ]
  },
  {
   "cell_type": "code",
   "execution_count": 9,
   "id": "c1b1d1f3",
   "metadata": {},
   "outputs": [
    {
     "data": {
      "text/plain": [
       "[(4.8, 1.21, 2.385)]"
      ]
     },
     "execution_count": 9,
     "metadata": {},
     "output_type": "execute_result"
    }
   ],
   "source": [
    "inputs = [1, 2, 3, 2.5]\n",
    "\n",
    "weights = [[0.2, 0.8, -0.5, 1.0],\n",
    "           [0.5, -0.91, 0.26, -0.5],\n",
    "           [-0.26, -0.27, 0.17, 0.87]]\n",
    "\n",
    "outputs = []\n",
    "\n",
    "inputs = np.array(inputs)\n",
    "weights = np.array(weights)\n",
    "\n",
    "neuron1 = np.dot(weights[0], inputs) + biases[0]\n",
    "neuron2 = np.dot(weights[1], inputs) + biases[1]\n",
    "neuron3 = np.dot(weights[2], inputs) + biases[2]\n",
    "\n",
    "outputs.append((neuron1, neuron2, neuron3))\n",
    "outputs"
   ]
  },
  {
   "cell_type": "markdown",
   "id": "eb9a0c44",
   "metadata": {},
   "source": [
    "## Dot Product between Vector and Matrix from Tensors"
   ]
  },
  {
   "cell_type": "code",
   "execution_count": 10,
   "id": "906856e2",
   "metadata": {},
   "outputs": [
    {
     "name": "stdout",
     "output_type": "stream",
     "text": [
      "Inputs Size: torch.Size([4, 1])\n",
      "Weights Size: torch.Size([3, 4])\n",
      "torch.Size([3, 4]) * torch.Size([4, 1]) = torch.Size([1, 3])\n",
      "\n",
      "tensor([4.8000, 1.2100, 2.3850])\n"
     ]
    }
   ],
   "source": [
    "inputs = torch.tensor([[1, 2, 3, 2.5]])\n",
    "weights = torch.tensor([[0.2, 0.8, -0.5, 1.0],\n",
    "                        [0.5, -0.91, 0.26, -0.5],\n",
    "                        [-0.26, -0.27, 0.17, 0.87]])\n",
    "\n",
    "biases = torch.tensor([2, 3, 0.5])\n",
    "\n",
    "outputs = torch.matmul(inputs, weights.T) + biases\n",
    "\n",
    "print(f\"Inputs Size: {inputs.T.shape}\")\n",
    "print(f\"Weights Size: {weights.shape}\")\n",
    "print(f\"{weights.shape} * {inputs.T.shape} = {outputs.shape}\\n\")\n",
    "\n",
    "print(f\"{outputs[0]}\")"
   ]
  },
  {
   "cell_type": "markdown",
   "id": "5ac47267",
   "metadata": {},
   "source": [
    "## Dot Product between Matrix and Matrix using arrays\n",
    "#### mind using np.array to handle list for transposition"
   ]
  },
  {
   "cell_type": "code",
   "execution_count": 11,
   "id": "41e5effc",
   "metadata": {},
   "outputs": [
    {
     "data": {
      "text/plain": [
       "array([[ 4.8  ,  1.21 ,  2.385],\n",
       "       [ 8.9  , -1.81 ,  0.2  ],\n",
       "       [ 1.41 ,  1.051,  0.026]])"
      ]
     },
     "execution_count": 11,
     "metadata": {},
     "output_type": "execute_result"
    }
   ],
   "source": [
    "inputs = [[1, 2, 3, 2.5], \n",
    "          [2, 5, -1, 2], \n",
    "          [-1.5, 2.7, 3.3, -0.8]]\n",
    "\n",
    "weights = [[0.2, 0.8, -0.5, 1.0],\n",
    "           [0.5, -0.91, 0.26, -0.5],\n",
    "           [-0.26, -0.27, 0.17, 0.87]]\n",
    "\n",
    "biases = [2, 3, 0.5]\n",
    "\n",
    "inputs = np.array(inputs)\n",
    "weights = np.array(weights)\n",
    "biases = np.array(biases)\n",
    "\n",
    "outputs = np.dot(inputs, weights.T) + biases\n",
    "outputs"
   ]
  },
  {
   "cell_type": "markdown",
   "id": "d027cda0",
   "metadata": {},
   "source": [
    "## Dot Product between Matrix and Matrix using Tensors"
   ]
  },
  {
   "cell_type": "code",
   "execution_count": 12,
   "id": "0129520a",
   "metadata": {},
   "outputs": [
    {
     "data": {
      "text/plain": [
       "tensor([[ 4.8000,  1.2100,  2.3850],\n",
       "        [ 8.9000, -1.8100,  0.2000],\n",
       "        [ 1.4100,  1.0510,  0.0260]])"
      ]
     },
     "execution_count": 12,
     "metadata": {},
     "output_type": "execute_result"
    }
   ],
   "source": [
    "inputs = torch.tensor([[1, 2, 3, 2.5], \n",
    "                       [2, 5, -1, 2], \n",
    "                       [-1.5, 2.7, 3.3, -0.8]])\n",
    "\n",
    "weights = torch.tensor([[0.2, 0.8, -0.5, 1.0],\n",
    "                        [0.5, -0.91, 0.26, -0.5],\n",
    "                        [-0.26, -0.27, 0.17, 0.87]])\n",
    "\n",
    "biases = torch.tensor([2, 3, 0.5])\n",
    "\n",
    "outputs = torch.matmul(inputs, weights.T) + biases\n",
    "outputs"
   ]
  },
  {
   "cell_type": "markdown",
   "id": "8b2b9b90",
   "metadata": {},
   "source": [
    "# L3 Multiple Hidden Layers manual forwardpass"
   ]
  },
  {
   "cell_type": "code",
   "execution_count": 13,
   "id": "4046ad7a",
   "metadata": {},
   "outputs": [
    {
     "name": "stdout",
     "output_type": "stream",
     "text": [
      "Input to 1st hidden Layer:\n",
      "[[ 1.   2.   3.   2.5]\n",
      " [ 2.   5.  -1.   2. ]\n",
      " [-1.5  2.7  3.3 -0.8]]\n",
      "(3, 4)\n",
      "\n",
      "Output1 from 1st hidden Layer:\n",
      "[[ 4.8    1.21   2.385]\n",
      " [ 8.9   -1.81   0.2  ]\n",
      " [ 1.41   1.051  0.026]]\n",
      "(3, 3)\n",
      "\n",
      "Becomes Input for 2nd hidden Layer\n",
      "\n",
      "\n",
      "Output2 from 2nd hidden Layer:\n",
      "[[ 0.5031  -1.04185 -2.03875]\n",
      " [ 0.2434  -2.7332  -5.7633 ]\n",
      " [-0.99314  1.41254 -0.35655]]\n",
      "(3, 3)\n",
      "\n",
      "Becomes Input for 3rd hidden Layer\n",
      "\n",
      "\n",
      "Output3 from 3rd hidden Layer:\n",
      "[[ 3.176794   1.2962155  1.283123   3.2962155 -0.216877  -3.823206 ]\n",
      " [ 1.525338   2.452205   0.646897   4.452205  -0.853103  -5.474662 ]\n",
      " [ 3.5246554  1.7837363  3.5144873  3.7837363  2.0144873 -3.4753446]]\n",
      "(3, 6)\n",
      "\n",
      "Becomes Input for 4th hidden Layer\n",
      "\n",
      "\n",
      "Output4 from 4th hidden Layer:\n",
      "[[ 2.66613248 -0.96791998 -1.37079701 -2.30468599 -1.74704668]\n",
      " [ 1.26264427 -0.55190974 -1.28831229 -1.53980844 -0.24660886]\n",
      " [ 5.11751266 -0.4505336  -1.98491878 -3.82655174 -3.14223552]]\n",
      "(3, 5)\n",
      "\n",
      "Becomes Input for 5th hidden Layer\n",
      "\n",
      "\n",
      "Output5 from 5th hidden Layer:\n",
      "[[3.78719547 4.321024  ]\n",
      " [3.80850392 4.04243349]\n",
      " [3.25124971 4.77784542]]\n",
      "(3, 2)\n",
      "\n",
      "Becomes Input for 6th hidden Layer\n",
      "\n",
      "\n",
      "Output6 from 6th hidden Layer:\n",
      "[[ 1.62492514  3.62492514 -0.32288164]\n",
      " [ 1.58084006  3.58084006 -0.41470586]\n",
      " [ 1.94771659  3.94771659  0.28360257]]\n",
      "(3, 3)\n",
      "\n",
      "Becomes Input for 7th hidden Layer\n",
      "\n",
      "\n",
      "Output7 from 7th hidden Layer:\n",
      "[[-0.36689596  0.04389979  3.62523948  2.49356217]\n",
      " [-0.39998212  0.05165477  3.69980689  2.44941347]\n",
      " [-0.1727119  -0.02407736  3.11218293  2.78389262]]\n",
      "(3, 4)\n",
      "\n",
      "Becomes Input for 8th hidden Layer\n",
      "\n",
      "\n",
      "Output8 from 8th hidden Layer:\n",
      "[[ 3.16668057 -0.21797425 -0.92761562]\n",
      " [ 3.09511287 -0.22754813 -0.90975385]\n",
      " [ 3.65010122 -0.12679449 -1.0472243 ]]\n",
      "(3, 3)\n",
      "\n",
      "Becomes Input for 9th hidden Layer\n",
      "\n",
      "\n",
      "Output7 from 9th hidden Layer:\n",
      "[[2.56812937 5.69311323 0.52545518 1.88337664 3.37374468 0.52545518]\n",
      " [2.59030821 5.68304043 0.5791617  1.8864911  3.41461362 0.5791617 ]\n",
      " [2.43753465 5.75213265 0.16905347 1.8591492  3.08678243 0.16905347]]\n",
      "(3, 6)\n",
      "\n",
      "Becomes Input for 10th hidden Layer\n",
      "\n",
      "\n",
      "Output8 from 10th hidden Layer:\n",
      "[[ 1.62307796  0.85922512  1.00012501  1.73070368  0.51546952 -5.14077488\n",
      "   1.97230408  7.28893555]\n",
      " [ 1.6344978   0.83101325  1.050802    1.73951521  0.47107211 -5.16898675\n",
      "   2.00506071  7.25386255]\n",
      " [ 1.54919255  1.03116334  0.67468716  1.68753812  0.8007526  -4.96883666\n",
      "   1.75030431  7.5167288 ]]\n",
      "(3, 8)\n",
      "\n",
      "Becomes Input for 11th hidden Layer\n",
      "\n",
      "\n"
     ]
    }
   ],
   "source": [
    "inputs = [[1, 2, 3, 2.5], \n",
    "          [2, 5, -1, 2], \n",
    "          [-1.5, 2.7, 3.3, -0.8]]\n",
    "\n",
    "weights1 = [[0.2, 0.8, -0.5, 1.0],\n",
    "            [0.5, -0.91, 0.26, -0.5],\n",
    "            [-0.26, -0.27, 0.17, 0.87]]\n",
    "\n",
    "biases1 = [2, 3, 0.5]\n",
    "\n",
    "weights2 = [[0.1, -0.14, 0.5],\n",
    "            [-0.5, 0.12, -0.33],\n",
    "            [-0.44, 0.73, -0.13]]\n",
    "\n",
    "biases2 = [-1, 2, -0.5]\n",
    "\n",
    "weights3 = [[0.1, -0.14, 0.5],\n",
    "            [-0.5, 0.12, -0.33],\n",
    "            [-0.44, 0.73, -0.13],\n",
    "            [-0.5, 0.12, -0.33],\n",
    "            [-0.44, 0.73, -0.13],\n",
    "            [0.1, -0.14, 0.5]]\n",
    "\n",
    "biases3 = [4, 1, 2, 3, 0.5, -3]\n",
    "\n",
    "weights4 = [[0.1, -0.14, 0.5, -0.44, 0.73, -0.13],\n",
    "            [-0.5, 0.12, -0.33, -0.44, 0.73, -0.13],\n",
    "            [0.1, -0.14, 0.5, 0.5, -0.91, 0.26],\n",
    "            [-0.5, 0.12, -0.33, -0.26, -0.27, 0.17],\n",
    "            [-0.91, 0.26, -0.5, 0.1, -0.14, 0.5]]\n",
    "\n",
    "biases4 = [3, 2, -3, 1, 3]\n",
    "\n",
    "weights5 = [[0.12, -0.33, -0.44, 0.73, -0.13],\n",
    "            [0.12, -0.33, -0.26, -0.27, 0.17]]\n",
    "\n",
    "biases5 = [4, 3]\n",
    "\n",
    "weights6 = [[-0.5, 0.12],\n",
    "            [-0.5, 0.12],\n",
    "            [-0.91, 0.26]]\n",
    "\n",
    "biases6 = [3, 5, 2]\n",
    "\n",
    "weights7 = [[-0.33, -0.44, 0.73],\n",
    "            [-0.26, -0.27, 0.17],\n",
    "            [-0.91, 0.26, -0.5],\n",
    "            [0.1, -0.14, 0.5]]\n",
    "\n",
    "biases7 = [2, 1.5, 4, 3]\n",
    "\n",
    "weights8 = [[0.12, -0.33, -0.44, 0.73],\n",
    "            [-0.91, 0.26, -0.5, 0.1],\n",
    "            [0.5, -0.91, 0.26, -0.5]]\n",
    "\n",
    "biases8 = [3, 1, -0.4]\n",
    "\n",
    "weights9 = [[-0.44, 0.73, -0.13],\n",
    "            [0.12, -0.33, -0.26],\n",
    "            [-0.91, 0.26, -0.5],\n",
    "            [0.1, -0.14, 0.5],\n",
    "            [-0.33, -0.44, 0.73],\n",
    "            [-0.91, 0.26, -0.5]]\n",
    "\n",
    "biases9 = [4, 5, 3, 2, 5, 3]\n",
    "\n",
    "weights10 = [[0.1, -0.14, 0.5, -0.91, 0.26, -0.5],\n",
    "             [-0.91, 0.26, -0.5, 0.1, -0.14, 0.5],\n",
    "             [0.1, -0.14, 0.5, -0.33, -0.44, 0.73],\n",
    "             [0.1, -0.14, 0.5, 0.5, -0.91, 0.26],\n",
    "             [-0.5, 0.12, -0.33, -0.5, 0.12, -0.33],\n",
    "             [-0.91, 0.26, -0.5, 0.1, -0.14, 0.5],\n",
    "             [0.1, -0.14, 0.5, -0.14, 0.5, -0.33],\n",
    "             [-0.14, 0.5, -0.91, 0.26, -0.14, 0.5]]\n",
    "\n",
    "biases10 = [3, 2, 3, 4, 2, -4, 1, 5]\n",
    "\n",
    "\n",
    "inputs = np.array(inputs)\n",
    "weights1 = np.array(weights1)\n",
    "biases1 = np.array(biases1)\n",
    "weights2 = np.array(weights2)\n",
    "biases2 = np.array(biases2)\n",
    "weights3 = np.array(weights3)\n",
    "biases3 = np.array(biases3)\n",
    "weights4 = np.array(weights4)\n",
    "biases4 = np.array(biases4)\n",
    "weights5 = np.array(weights5)\n",
    "biases5 = np.array(biases5)\n",
    "weights6 = np.array(weights6)\n",
    "biases6 = np.array(biases6)\n",
    "weights7 = np.array(weights7)\n",
    "biases7 = np.array(biases7)\n",
    "weights8 = np.array(weights8)\n",
    "biases8 = np.array(biases8)\n",
    "weights9 = np.array(weights9)\n",
    "biases9 = np.array(biases9)\n",
    "weights10 = np.array(weights10)\n",
    "biases10 = np.array(biases10)\n",
    "\n",
    "\n",
    "output1 = np.dot(inputs, weights1.T) + biases1\n",
    "output2 = np.dot(output1, weights2.T) + biases2\n",
    "output3 = np.dot(output2, weights3.T) + biases3\n",
    "output4 = np.dot(output3, weights4.T) + biases4\n",
    "output5 = np.dot(output4, weights5.T) + biases5\n",
    "output6 = np.dot(output5, weights6.T) + biases6\n",
    "output7 = np.dot(output6, weights7.T) + biases7\n",
    "output8 = np.dot(output7, weights8.T) + biases8\n",
    "output9 = np.dot(output8, weights9.T) + biases9\n",
    "output10 = np.dot(output9, weights10.T) + biases10\n",
    "\n",
    "\n",
    "print(f\"Input to 1st hidden Layer:\\n{inputs}\\n{inputs.shape}\\n\")\n",
    "print(f\"Output1 from 1st hidden Layer:\\n{output1}\\n{output1.shape}\\n\\nBecomes Input for 2nd hidden Layer\\n\\n\")\n",
    "print(f\"Output2 from 2nd hidden Layer:\\n{output2}\\n{output2.shape}\\n\\nBecomes Input for 3rd hidden Layer\\n\\n\")\n",
    "print(f\"Output3 from 3rd hidden Layer:\\n{output3}\\n{output3.shape}\\n\\nBecomes Input for 4th hidden Layer\\n\\n\")\n",
    "print(f\"Output4 from 4th hidden Layer:\\n{output4}\\n{output4.shape}\\n\\nBecomes Input for 5th hidden Layer\\n\\n\")\n",
    "print(f\"Output5 from 5th hidden Layer:\\n{output5}\\n{output5.shape}\\n\\nBecomes Input for 6th hidden Layer\\n\\n\")\n",
    "print(f\"Output6 from 6th hidden Layer:\\n{output6}\\n{output6.shape}\\n\\nBecomes Input for 7th hidden Layer\\n\\n\")\n",
    "print(f\"Output7 from 7th hidden Layer:\\n{output7}\\n{output7.shape}\\n\\nBecomes Input for 8th hidden Layer\\n\\n\")\n",
    "print(f\"Output8 from 8th hidden Layer:\\n{output8}\\n{output8.shape}\\n\\nBecomes Input for 9th hidden Layer\\n\\n\")\n",
    "print(f\"Output7 from 9th hidden Layer:\\n{output9}\\n{output9.shape}\\n\\nBecomes Input for 10th hidden Layer\\n\\n\")\n",
    "print(f\"Output8 from 10th hidden Layer:\\n{output10}\\n{output10.shape}\\n\\nBecomes Input for 11th hidden Layer\\n\\n\")\n"
   ]
  },
  {
   "cell_type": "markdown",
   "id": "1017331d",
   "metadata": {},
   "source": [
    "## Input batch with 3 rows (embeddings) and 4 columns (embedding dimensions)\n",
    "\n",
    "### --> Layer 1 Size 3 Neurons, 4 weights, 3 biases --> 3 x 4 * 4 x 3 with weights transposed -> 3 x 3\n",
    "\n",
    "### --> Layer 2 Size 3 Neurons, 3 weights, 3 biases --> 3 x 3 * 3 x 3 with weights transposed -> 3 x 3\n",
    "\n",
    "### --> Layer 3 Size 6 Neurons, 3 weights, 6 biases --> 3 x 3 * 3 x 6 with weights transposed -> 3 x 6\n",
    "\n",
    "### --> Layer 4 Size 5 Neurons, 6 weights, 5 biases --> 3 x 6 * 6 x 5 with weights transposed -> 3 x 5\n",
    "\n",
    "### --> Layer 5 Size 2 Neurons, 5 weights, 2 biases --> 3 x 5 * 5 x 2 with weights transposed -> 3 x 2\n",
    "\n",
    "### --> Layer 6 Size 3 Neurons, 2 weights, 3 biases --> 3 x 2 * 2 x 3 with weights transposed -> 3 x 3\n",
    "\n",
    "### --> Layer 7 Size 4 Neurons, 3 weights, 4 biases --> 3 x 3 * 3 x 4 with weights transposed -> 3 x 4 \n",
    "\n",
    "### --> Layer 8 Size 3 Neurons, 4 weights, 3 biases --> 3 x 4 * 4 x 3 with weights transposed -> 3 x 3\n",
    "\n",
    "### --> Layer 9 Size 6 Neurons, 3 weights, 6 biases --> 3 x 3 * 3 x 6 with weights transposed -> 3 x 6\n",
    "\n",
    "### --> Layer 10 Size 8 Neurons, 6 weights, 8 biases --> 3 x 6 * 6 x 8 with weights transposed -> 3 x 8"
   ]
  },
  {
   "cell_type": "markdown",
   "id": "474bcc18",
   "metadata": {},
   "source": [
    "## to avoid transposing the weights may be passed in columns instead of rows"
   ]
  },
  {
   "cell_type": "markdown",
   "id": "5d78fa69",
   "metadata": {},
   "source": [
    "# L4 Dense Layer Class"
   ]
  },
  {
   "cell_type": "markdown",
   "id": "7e87c473",
   "metadata": {},
   "source": [
    "### ! pip install nnfs"
   ]
  },
  {
   "cell_type": "code",
   "execution_count": 14,
   "id": "cb991098",
   "metadata": {},
   "outputs": [
    {
     "data": {
      "image/png": "[encoded data removed]",
      "text/plain": [
       "<Figure size 640x480 with 1 Axes>"
      ]
     },
     "metadata": {},
     "output_type": "display_data"
    }
   ],
   "source": [
    "from nnfs.datasets import spiral_data\n",
    "import nnfs\n",
    "nnfs.init()\n",
    "import matplotlib.pyplot as plt\n",
    "\n",
    "X, y = spiral_data(samples=100, classes=3)\n",
    "plt.scatter(X[:, 0], X[:, 1])\n",
    "plt.show()"
   ]
  },
  {
   "cell_type": "code",
   "execution_count": 15,
   "id": "a6c8be22",
   "metadata": {},
   "outputs": [
    {
     "data": {
      "image/png": "[encoded data removed]",
      "text/plain": [
       "<Figure size 640x480 with 1 Axes>"
      ]
     },
     "metadata": {},
     "output_type": "display_data"
    }
   ],
   "source": [
    "plt.scatter(X[:, 0], X[:, 1], c=y, cmap=\"brg\")\n",
    "plt.show()"
   ]
  },
  {
   "cell_type": "code",
   "execution_count": 16,
   "id": "b8d69e77",
   "metadata": {},
   "outputs": [
    {
     "data": {
      "text/plain": [
       "((300, 2), (300,))"
      ]
     },
     "execution_count": 16,
     "metadata": {},
     "output_type": "execute_result"
    }
   ],
   "source": [
    "X.shape, y.shape"
   ]
  },
  {
   "cell_type": "markdown",
   "id": "4edb74aa",
   "metadata": {},
   "source": [
    "### random array with values which represent gaussian distribution \n",
    "### have mean of 0 and variance of 1"
   ]
  },
  {
   "cell_type": "code",
   "execution_count": 17,
   "id": "388883d5",
   "metadata": {},
   "outputs": [
    {
     "name": "stdout",
     "output_type": "stream",
     "text": [
      "0.01487915\n",
      "0.98592794\n"
     ]
    }
   ],
   "source": [
    "np.random.seed(50)\n",
    "arr = np.random.randn(100, 100)\n",
    "mean = arr.mean()\n",
    "variance = arr.var()\n",
    "\n",
    "print(mean)\n",
    "print(variance)\n"
   ]
  },
  {
   "cell_type": "markdown",
   "id": "1e973e36",
   "metadata": {},
   "source": [
    "### Shape of inputs to the neural network are 300 2-dimensional data points specified by (x, y)-Coordinates \n",
    "\n",
    "#### --> each (x, y) Coordinate is assigned input (x1, x2) x1 being the 1st dimension and x2 being the 2nd dimension"
   ]
  },
  {
   "cell_type": "markdown",
   "id": "6e5cc785",
   "metadata": {},
   "source": [
    "### n_inputs specifies the input dimension which is given by coordinates in 2D-Coordinate System (x, y) \n",
    "### depending on the number of neurons in each layer the respective input weights will be according to the number of neurones in the previous layer as each neuron branches out to each neuron of the present layer holding 1 weight value"
   ]
  },
  {
   "cell_type": "code",
   "execution_count": 18,
   "id": "3640a3dd",
   "metadata": {},
   "outputs": [
    {
     "name": "stdout",
     "output_type": "stream",
     "text": [
      "(300, 3)\n"
     ]
    }
   ],
   "source": [
    "class LayerDense4:\n",
    "    def __init__(self, n_inputs, n_neurons):\n",
    "        self.weights = 0.01 * np.random.randn(n_inputs, n_neurons)\n",
    "        self.biases = np.zeros((1, n_neurons))\n",
    "    \n",
    "    def forward(self, inputs):\n",
    "        self.output = np.dot(inputs, self.weights) + self.biases\n",
    "\n",
    "dense_layer1 = LayerDense4(2, 3)\n",
    "dense_layer1.forward(X)\n",
    "print(dense_layer1.output.shape)"
   ]
  },
  {
   "cell_type": "markdown",
   "id": "c3e70f3e",
   "metadata": {},
   "source": [
    "## determine weight matrix size\n",
    "### 2 inputs be seen as the dimension of the input vector or matrix\n",
    "### 3 outpus be seen as the 3 neurons the input is going towards"
   ]
  },
  {
   "cell_type": "code",
   "execution_count": 19,
   "id": "cee8f2c4",
   "metadata": {},
   "outputs": [
    {
     "name": "stdout",
     "output_type": "stream",
     "text": [
      "Input shape: (300, 2)\n",
      "(300, 2) * torch.Size([2, 3]) = (300, 3)\n",
      "Output shape: (300, 3)\n"
     ]
    }
   ],
   "source": [
    "weight_matrix = torch.randn([2, 3])\n",
    "print(f\"Input shape: {X.shape}\")\n",
    "print(f\"{X.shape} * {weight_matrix.shape} = {dense_layer1.output.shape}\")\n",
    "print(f\"Output shape: {dense_layer1.output.shape}\")"
   ]
  },
  {
   "cell_type": "markdown",
   "id": "6b73ea02",
   "metadata": {},
   "source": [
    "# L5 Array Summation and Broadcasting Rules"
   ]
  },
  {
   "cell_type": "markdown",
   "id": "bed884f7",
   "metadata": {},
   "source": [
    "## arguments *axis* and *keepdims*"
   ]
  },
  {
   "cell_type": "markdown",
   "id": "42dc119a",
   "metadata": {},
   "source": [
    "### np.sum(x) vs. np.sum(x, axis=None) vs. np.sum(x, axis=0) vs np.sum(x, axis=1)\n",
    "\n",
    "### input array with 2 dimensions --> Results 1 dimensional Vector"
   ]
  },
  {
   "cell_type": "code",
   "execution_count": 20,
   "id": "6f1d778f",
   "metadata": {},
   "outputs": [
    {
     "name": "stdout",
     "output_type": "stream",
     "text": [
      "Return the overall sum of all elements in the matrix: 45\n",
      "Return the overall sum of all elements in the matrix: 45\n",
      "Returns the sum of the 0th axis: [12 15 18] --> along the columns (across the rows)\n",
      "Returns the sum of the 1st axis: [ 6 15 24] --> along the rows (across the columns)\n",
      "Result shapes: (3,), (3,) from (3, 3)\n"
     ]
    }
   ],
   "source": [
    "example = np.array([[1, 2, 3],\n",
    "                    [4, 5, 6],\n",
    "                    [7, 8, 9]])\n",
    "\n",
    "print(f\"Return the overall sum of all elements in the matrix: {np.sum(example)}\")\n",
    "print(f\"Return the overall sum of all elements in the matrix: {np.sum(example, axis=None)}\")\n",
    "print(f\"Returns the sum of the 0th axis: {np.sum(example, axis=0)} --> along the columns (across the rows)\")\n",
    "print(f\"Returns the sum of the 1st axis: {np.sum(example, axis=1)} --> along the rows (across the columns)\")\n",
    "print(f\"Result shapes: {np.sum(example, axis=0).shape}, {np.sum(example, axis=1).shape} from {example.shape}\")"
   ]
  },
  {
   "cell_type": "markdown",
   "id": "0e70eb9e",
   "metadata": {},
   "source": [
    "## use of keepdims=True demonstrated, returns result with respect to the original dimensions within the Matrix\n",
    "\n",
    "### input array with 2 dimaensions --> Results 2 dimensional Vector using keepdims=True"
   ]
  },
  {
   "cell_type": "code",
   "execution_count": 21,
   "id": "7cbb85cf",
   "metadata": {},
   "outputs": [
    {
     "name": "stdout",
     "output_type": "stream",
     "text": [
      "Summing up along the columns with axis=0: [[12 15 18]]\n",
      "Summing up along the rows with axis=1:\n",
      "[[ 6]\n",
      " [15]\n",
      " [24]]\n",
      "(1, 3), (3, 1), (3, 3)\n"
     ]
    }
   ],
   "source": [
    "array1 = np.array([[1, 2, 3],\n",
    "                     [4, 5, 6],\n",
    "                     [7, 8, 9]])\n",
    "\n",
    "print(f\"Summing up along the columns with axis=0: {np.sum(array1, axis=0, keepdims=True)}\")\n",
    "print(f\"Summing up along the rows with axis=1:\\n{np.sum(array1, axis=1, keepdims=True)}\")\n",
    "print(f\"{np.sum(array1, axis=0, keepdims=True).shape}, {np.sum(array1, axis=1, keepdims=True).shape}, {array1.shape}\")"
   ]
  },
  {
   "cell_type": "markdown",
   "id": "37f11375",
   "metadata": {},
   "source": [
    "## Broadcasting rules in python"
   ]
  },
  {
   "cell_type": "markdown",
   "id": "fbd91fb9",
   "metadata": {},
   "source": [
    "### steps to check broadcastibility"
   ]
  },
  {
   "cell_type": "code",
   "execution_count": 22,
   "id": "1ffda99c",
   "metadata": {},
   "outputs": [
    {
     "name": "stdout",
     "output_type": "stream",
     "text": [
      "(3, 3)\n",
      "(3, 1)\n"
     ]
    }
   ],
   "source": [
    "array2 = np.array([[1, 2, 3],\n",
    "                   [4, 5, 6],\n",
    "                   [7, 8, 9]])\n",
    "\n",
    "array3 = np.array([[1],\n",
    "                   [2],\n",
    "                   [3]])\n",
    "\n",
    "\n",
    "print(f\"{array2.shape}\\n{array3.shape}\")\n"
   ]
  },
  {
   "cell_type": "markdown",
   "id": "ca964577",
   "metadata": {},
   "source": [
    "#### in broadcasting python extends the 2nd dimension of the 2nd tensor to equal the 2nd dmension of the 1st tensor by copying the existing column n times \n",
    "#### makes the tensors eligible for addition operation"
   ]
  },
  {
   "cell_type": "markdown",
   "id": "84830434",
   "metadata": {},
   "source": [
    "### dimensions as shown right above: \n",
    "### --> scan dimension from left \n",
    "### --> dimension must either be equal , one of the dimensions must be 1 , or one that does not exist\n",
    "\n",
    "## --> pair of dimensions satisfy the 3 rules \n",
    "\n",
    "### take 3 and 1 (2nd dimensions) --> one of the dimensions is 1 (2nd rule SATISFIED)\n",
    "### take 3 and 3 (1st dimensions) --> both dimensions are equel (1st rule SATISFIED)\n",
    "\n",
    "## --> the two arrays are broadcastable"
   ]
  },
  {
   "cell_type": "markdown",
   "id": "043d7640",
   "metadata": {},
   "source": [
    "### checking on 3rd vector 1 x 3"
   ]
  },
  {
   "cell_type": "code",
   "execution_count": 23,
   "id": "35666c4a",
   "metadata": {},
   "outputs": [
    {
     "name": "stdout",
     "output_type": "stream",
     "text": [
      "(3, 3)\n",
      "(3, 1)\n",
      "(1, 3)\n"
     ]
    }
   ],
   "source": [
    "array2 = np.array([[1, 2, 3],\n",
    "                   [4, 5, 6],\n",
    "                   [7, 8, 9]])\n",
    "\n",
    "array3 = np.array([[1],\n",
    "                   [2],\n",
    "                   [3]])\n",
    "\n",
    "array4 = np.array([[1, 2, 3]])\n",
    "\n",
    "print(f\"{array2.shape}\\n{array3.shape}\\n{array4.shape}\")"
   ]
  },
  {
   "cell_type": "markdown",
   "id": "fba89b35",
   "metadata": {},
   "source": [
    "## checking on 1st and 3rd\n",
    "\n",
    "### --> 2nd dimension are equal 3 = 3\n",
    "### --> 1st dimension one of them is 1 \n",
    "\n",
    "## --> broadcasting rules satisfied\n",
    "\n",
    "### similar to before the first dimension of tensor 4 is extended to match the 1st dimension of tensor 2\n"
   ]
  },
  {
   "cell_type": "markdown",
   "id": "1e43ab1c",
   "metadata": {},
   "source": [
    "## in broadcasting the initial shape of the array is maintained by adding copies of a single vector (across columns or across rows) in order to match the dimension of another tensor which enables summation of 2 tensors with different shapes"
   ]
  },
  {
   "cell_type": "markdown",
   "id": "a87f48d9",
   "metadata": {},
   "source": [
    "### checking broadcastibility with missing dimension "
   ]
  },
  {
   "cell_type": "code",
   "execution_count": 24,
   "id": "f1b93c96",
   "metadata": {},
   "outputs": [
    {
     "name": "stdout",
     "output_type": "stream",
     "text": [
      "Size of 2-dimensional array: (3, 3)\n",
      "Size of 1-dimensional array: (3,) deliberatly no second dimension\n",
      "Row Vector Array 6 is extended and added to each row of Array 5 resulting in\n",
      "[[ 2  4  6]\n",
      " [ 5  7  9]\n",
      " [ 8 10 12]]\n"
     ]
    }
   ],
   "source": [
    "array5 = np.array([[1, 2, 3],\n",
    "                   [4, 5, 6],\n",
    "                   [7, 8, 9]])\n",
    "\n",
    "array6 = np.array([1, 2, 3])\n",
    "\n",
    "array7 = array5 + array6\n",
    "\n",
    "print(f\"Size of 2-dimensional array: {array5.shape}\")\n",
    "print(f\"Size of 1-dimensional array: {array6.shape} deliberatly no second dimension\")\n",
    "print(f\"Row Vector Array 6 is extended and added to each row of Array 5 resulting in\\n{array7}\")"
   ]
  },
  {
   "cell_type": "markdown",
   "id": "b53e8278",
   "metadata": {},
   "source": [
    "### subtract the max value of each row from each row value using PyTorch"
   ]
  },
  {
   "cell_type": "code",
   "execution_count": 25,
   "id": "8da02969",
   "metadata": {},
   "outputs": [
    {
     "name": "stdout",
     "output_type": "stream",
     "text": [
      "tensor([[ 2,  4,  6],\n",
      "        [ 5,  7,  9],\n",
      "        [ 8, 10, 12]]) torch.Size([3, 3])\n",
      "tensor([[ 6],\n",
      "        [ 9],\n",
      "        [12]]) torch.Size([3, 1])\n",
      "tensor([[-4, -2,  0],\n",
      "        [-4, -2,  0],\n",
      "        [-4, -2,  0]])\n"
     ]
    }
   ],
   "source": [
    "maxvals = []\n",
    "for i, row in enumerate(array7):\n",
    "    max_i = max(array7[i])\n",
    "    maxvals.append(max_i)\n",
    "\n",
    "maxvals = torch.tensor(maxvals).unsqueeze(dim=-1)\n",
    "array7 = torch.tensor(array7)\n",
    "results = array7 - maxvals\n",
    "\n",
    "print(array7, array7.shape)\n",
    "print(maxvals, maxvals.shape)\n",
    "print(results)\n",
    "\n"
   ]
  },
  {
   "cell_type": "markdown",
   "id": "fc2bdde5",
   "metadata": {},
   "source": [
    "### subtract the max value of each row from each row value using numpy\n",
    "\n",
    "### Case 1 and Case 2 notice the usage of keepdims parameter and how it affects the result\n",
    "\n",
    "### only if keepdims is set to true the result will be retained as a column vector otherwise it will be returned as a row vector which would lead to wrong result when subtracting the max values from each row from the elements of that same row"
   ]
  },
  {
   "cell_type": "code",
   "execution_count": 26,
   "id": "71052538",
   "metadata": {},
   "outputs": [
    {
     "name": "stdout",
     "output_type": "stream",
     "text": [
      "[[ 2  4  6]\n",
      " [ 5  7  9]\n",
      " [ 8 10 12]]\n",
      "[[-4 -5 -6]\n",
      " [-1 -2 -3]\n",
      " [ 2  1  0]]\n",
      "[[-4 -2  0]\n",
      " [-4 -2  0]\n",
      " [-4 -2  0]]\n"
     ]
    }
   ],
   "source": [
    "array7 = np.array(array7)\n",
    "case1 = array7 - np.max(array7, axis=1)\n",
    "case2 = array7 - np.max(array7, axis=1, keepdims=True)\n",
    "\n",
    "print(array7)\n",
    "print(case1)\n",
    "print(case2)"
   ]
  },
  {
   "cell_type": "markdown",
   "id": "4ef89cec",
   "metadata": {},
   "source": [
    "### subtracting the max values of each column from all elements in that same column, in this case the keepdims parameter does not make a difference "
   ]
  },
  {
   "cell_type": "code",
   "execution_count": 27,
   "id": "7f700145",
   "metadata": {},
   "outputs": [
    {
     "name": "stdout",
     "output_type": "stream",
     "text": [
      "[[ 2  4  6]\n",
      " [ 5  7  9]\n",
      " [ 8 10 12]]\n",
      "[[-6 -6 -6]\n",
      " [-3 -3 -3]\n",
      " [ 0  0  0]]\n",
      "[[-6 -6 -6]\n",
      " [-3 -3 -3]\n",
      " [ 0  0  0]]\n"
     ]
    }
   ],
   "source": [
    "case1 = array7 - np.max(array7, axis=0)\n",
    "case2 = array7 - np.max(array7, axis=0, keepdims=True)\n",
    "\n",
    "print(array7)\n",
    "print(case1)\n",
    "print(case2)"
   ]
  },
  {
   "cell_type": "code",
   "execution_count": 28,
   "id": "78868204",
   "metadata": {},
   "outputs": [
    {
     "name": "stdout",
     "output_type": "stream",
     "text": [
      "[[1, 2, 3], [4, 5, 6], [7, 8, 9]]\n",
      "45\n",
      "[12 15 18]\n",
      "(3,)\n",
      "[ 6 15 24]\n",
      "(3,)\n",
      "[[12 15 18]]\n",
      "(1, 3)\n",
      "[[ 6]\n",
      " [15]\n",
      " [24]]\n",
      "(3, 1)\n",
      "[7 8 9]\n",
      "[3 6 9]\n"
     ]
    }
   ],
   "source": [
    "array8 = [[1, 2, 3], \n",
    "          [4, 5, 6], \n",
    "          [7, 8, 9]]\n",
    "\n",
    "print(array8)\n",
    "print(np.sum(array8))\n",
    "\n",
    "print(np.sum(array8, axis=0))\n",
    "print(np.sum(array8, axis=0).shape)\n",
    "\n",
    "print(np.sum(array8, axis=1))\n",
    "print(np.sum(array8, axis=1).shape)\n",
    "\n",
    "print(np.sum(array8, axis=0, keepdims=True))\n",
    "print(np.sum(array8, axis=0, keepdims=True).shape)\n",
    "\n",
    "print(np.sum(array8, axis=1, keepdims=True))\n",
    "print(np.sum(array8, axis=1, keepdims=True).shape)\n",
    "\n",
    "print(np.max(array8, axis=0))\n",
    "print(np.max(array8, axis=1))"
   ]
  },
  {
   "cell_type": "markdown",
   "id": "733e5192",
   "metadata": {},
   "source": [
    "# L6 Neural Network Activation Functions"
   ]
  },
  {
   "cell_type": "markdown",
   "id": "a88513c3",
   "metadata": {},
   "source": [
    "### implementing non-linearities"
   ]
  },
  {
   "cell_type": "code",
   "execution_count": 29,
   "id": "c3a6be72",
   "metadata": {},
   "outputs": [
    {
     "name": "stdout",
     "output_type": "stream",
     "text": [
      "[0.  2.  0.  3.3 0.  1.1 2.2 0. ]\n"
     ]
    }
   ],
   "source": [
    "inputs = [0, 2, -1, 3.3, -2.7, 1.1, 2.2, -100]\n",
    "outputs = np.maximum(0, inputs)\n",
    "print(outputs)"
   ]
  },
  {
   "cell_type": "markdown",
   "id": "9742fe12",
   "metadata": {},
   "source": [
    "### each negative input value is set to 0"
   ]
  },
  {
   "cell_type": "code",
   "execution_count": 30,
   "id": "9a90dd0c",
   "metadata": {},
   "outputs": [],
   "source": [
    "class ActivationRelu6:\n",
    "    \n",
    "    def forward(self, inputs):\n",
    "        self.output = np.maximum(0, inputs)"
   ]
  },
  {
   "cell_type": "markdown",
   "id": "96ce9a85",
   "metadata": {},
   "source": [
    "### computing softmax activation function by first finding maximum row values and subtract them from the other values along the row --> to prevent values from getting too large\n",
    "\n",
    "### finding probabilities by deviding the result by the sum of all exponential values in the row"
   ]
  },
  {
   "cell_type": "markdown",
   "id": "59ce9c5b",
   "metadata": {},
   "source": [
    "## Steps for implementig softmax"
   ]
  },
  {
   "cell_type": "markdown",
   "id": "605708a9",
   "metadata": {},
   "source": [
    "#### find maximum values of each row\n",
    "#### subtract maximum value from each element of the respective row\n",
    "#### apply exponential function to each row element\n",
    "#### devide each element by the sum of all exponential values of the particular row"
   ]
  },
  {
   "cell_type": "code",
   "execution_count": 31,
   "id": "b09680f7",
   "metadata": {},
   "outputs": [
    {
     "name": "stdout",
     "output_type": "stream",
     "text": [
      "Maximum Values of each row:\n",
      "[[3. ]\n",
      " [5. ]\n",
      " [3.3]]\n",
      "\n",
      "Elements after Maximum values subtraction:\n",
      "[[-2.  -1.   0.  -0.5]\n",
      " [-3.   0.  -6.  -3. ]\n",
      " [-4.8 -0.6  0.  -4.1]]\n",
      "\n",
      "Exponential Values:\n",
      "[[0.13533528 0.36787944 1.         0.60653066]\n",
      " [0.04978707 1.         0.00247875 0.04978707]\n",
      " [0.00822975 0.54881164 1.         0.01657268]]\n",
      "\n",
      "Probabilities after devidung exponential values with their respective sum along the row:\n",
      "[[0.06414769 0.17437149 0.47399085 0.28748998]\n",
      " [0.04517666 0.90739747 0.00224921 0.04517666]\n",
      " [0.00522984 0.34875873 0.63547983 0.0105316 ]]\n"
     ]
    }
   ],
   "source": [
    "inputs = [[1, 2, 3, 2.5],\n",
    "          [2, 5, -1, 2],\n",
    "          [-1.5, 2.7, 3.3, -0.8]]\n",
    "\n",
    "max_values = np.max(inputs, axis=1, keepdims=True)\n",
    "sub_max = inputs - max_values\n",
    "exp_values = np.exp(sub_max)\n",
    "probabilities = exp_values / np.sum(exp_values, axis=1, keepdims=True)\n",
    "np.sum(probabilities, axis=1)\n",
    "\n",
    "print(f\"Maximum Values of each row:\\n{max_values}\\n\")\n",
    "print(f\"Elements after Maximum values subtraction:\\n{sub_max}\\n\")\n",
    "print(f\"Exponential Values:\\n{exp_values}\\n\")\n",
    "print(f\"Probabilities after devidung exponential values with their respective sum along the row:\\n{probabilities}\")"
   ]
  },
  {
   "cell_type": "code",
   "execution_count": 32,
   "id": "dfd612b5",
   "metadata": {},
   "outputs": [],
   "source": [
    "class ActivationSoftmax6:\n",
    "    \n",
    "    def forward(self, inputs):\n",
    "        max_values = np.max(inputs, axis=1, keepdims=True)\n",
    "        sub_max = inputs - max_values\n",
    "        exp_values = np.exp(sub_max)\n",
    "        probabilities = exp_values / np.sum(exp_values, axis=1, keepdims=True)\n",
    "        self.output =  probabilities\n",
    "        return self.output"
   ]
  },
  {
   "cell_type": "code",
   "execution_count": 33,
   "id": "fad3109d",
   "metadata": {},
   "outputs": [
    {
     "name": "stdout",
     "output_type": "stream",
     "text": [
      "Output Tensor:\n",
      "[[1.79859150e-02 1.64010315e-05 9.81997684e-01]\n",
      " [4.66126226e-02 1.71478255e-02 9.36239552e-01]\n",
      " [9.99982467e-01 1.67014080e-05 8.31514140e-07]]\n",
      "\n",
      "Row sums:\n",
      "[[1.]\n",
      " [1.]\n",
      " [1.]]\n"
     ]
    }
   ],
   "source": [
    "x = torch.tensor([[21, 14, 25],\n",
    "                  [3, 2, 6],\n",
    "                  [21, 10, 7]]).numpy()\n",
    "\n",
    "softtest = ActivationSoftmax6()\n",
    "output1 = softtest.forward(x)\n",
    "print(f\"Output Tensor:\\n{output1}\\n\")\n",
    "print(f\"Row sums:\\n{np.sum(output1, axis=1, keepdims=True)}\")\n"
   ]
  },
  {
   "cell_type": "code",
   "execution_count": 34,
   "id": "ff6d3b72",
   "metadata": {},
   "outputs": [
    {
     "name": "stdout",
     "output_type": "stream",
     "text": [
      "(300, 3)\n",
      "[0.3333333  0.33333325 0.33333343]\n",
      "1.0\n"
     ]
    }
   ],
   "source": [
    "X, y = spiral_data(samples=100, classes=3)\n",
    "\n",
    "dense1 = LayerDense4(2, 3)\n",
    "activation1 = ActivationRelu6()\n",
    "dense2 = LayerDense4(3, 3)\n",
    "activation2 = ActivationSoftmax6()\n",
    "\n",
    "dense1.forward(X)\n",
    "activation1.forward(dense1.output)\n",
    "dense2.forward(activation1.output)\n",
    "activation2.forward(dense2.output)\n",
    "print(activation2.output.shape)\n",
    "print(activation2.output[1])\n",
    "print(activation2.output[1].sum())\n"
   ]
  },
  {
   "cell_type": "markdown",
   "id": "680cd93a",
   "metadata": {},
   "source": [
    "# L7 Coding Forward Pass"
   ]
  },
  {
   "cell_type": "markdown",
   "id": "0f39e15f",
   "metadata": {},
   "source": [
    "## recap on Layer Dense, Relu Activation and Softmax Activation"
   ]
  },
  {
   "cell_type": "markdown",
   "id": "c08df2b5",
   "metadata": {},
   "source": [
    "### steps of applying softmax function"
   ]
  },
  {
   "cell_type": "markdown",
   "id": "74a71ec5",
   "metadata": {},
   "source": [
    "# 1. Step initialize random tensor "
   ]
  },
  {
   "cell_type": "code",
   "execution_count": 35,
   "id": "311bb802",
   "metadata": {},
   "outputs": [
    {
     "data": {
      "text/plain": [
       "array([[0.49460165, 0.2280831 , 0.25547392, 0.39632991, 0.3773151 ],\n",
       "       [0.99657423, 0.4081972 , 0.77189399, 0.76053669, 0.31000935],\n",
       "       [0.3465412 , 0.35176482, 0.14546686, 0.97266468, 0.90917844],\n",
       "       [0.5599571 , 0.31359075, 0.88820004, 0.67457307, 0.39108745]])"
      ]
     },
     "execution_count": 35,
     "metadata": {},
     "output_type": "execute_result"
    }
   ],
   "source": [
    "np.random.seed(50)\n",
    "my_tensor = np.random.rand(4, 5)\n",
    "my_tensor"
   ]
  },
  {
   "cell_type": "markdown",
   "id": "78934dd6",
   "metadata": {},
   "source": [
    "## 2. Step find the maximum value in each row and return it as a column vector"
   ]
  },
  {
   "cell_type": "code",
   "execution_count": 36,
   "id": "b603474b",
   "metadata": {},
   "outputs": [
    {
     "name": "stdout",
     "output_type": "stream",
     "text": [
      "[[0.49460165]\n",
      " [0.99657423]\n",
      " [0.97266468]\n",
      " [0.88820004]]\n"
     ]
    }
   ],
   "source": [
    "max_vals = np.max(my_tensor, axis=-1, keepdims=True)\n",
    "print(max_vals)"
   ]
  },
  {
   "cell_type": "markdown",
   "id": "d232de1a",
   "metadata": {},
   "source": [
    "## 3. Step subtract the maximum value of each row from all elements in that row"
   ]
  },
  {
   "cell_type": "code",
   "execution_count": 37,
   "id": "35653f92",
   "metadata": {},
   "outputs": [
    {
     "name": "stdout",
     "output_type": "stream",
     "text": [
      "[[ 0.         -0.26651854 -0.23912772 -0.09827174 -0.11728655]\n",
      " [ 0.         -0.58837703 -0.22468024 -0.23603754 -0.68656488]\n",
      " [-0.62612348 -0.62089987 -0.82719783  0.         -0.06348625]\n",
      " [-0.32824293 -0.57460929  0.         -0.21362697 -0.49711259]]\n"
     ]
    }
   ],
   "source": [
    "sub_vals = my_tensor - max_vals\n",
    "print(sub_vals)"
   ]
  },
  {
   "cell_type": "markdown",
   "id": "844f2c95",
   "metadata": {},
   "source": [
    "## 4. Step take the exponent of the scaled row elements "
   ]
  },
  {
   "cell_type": "code",
   "execution_count": 38,
   "id": "5a2ab32c",
   "metadata": {},
   "outputs": [
    {
     "data": {
      "text/plain": [
       "array([[1.        , 0.7660418 , 0.78731432, 0.90640257, 0.88933032],\n",
       "       [1.        , 0.55522767, 0.7987716 , 0.78975102, 0.50330201],\n",
       "       [0.53466041, 0.53746058, 0.43727288, 1.        , 0.93848703],\n",
       "       [0.72018804, 0.56292477, 1.        , 0.8076496 , 0.60828449]])"
      ]
     },
     "execution_count": 38,
     "metadata": {},
     "output_type": "execute_result"
    }
   ],
   "source": [
    "exp_vals = np.exp(sub_vals)\n",
    "exp_vals"
   ]
  },
  {
   "cell_type": "markdown",
   "id": "f51a7617",
   "metadata": {},
   "source": [
    "## 5. Step divide each row element by the sum of all exponential values in the row"
   ]
  },
  {
   "cell_type": "code",
   "execution_count": 39,
   "id": "6fc46e27",
   "metadata": {},
   "outputs": [
    {
     "data": {
      "text/plain": [
       "array([[0.22993321, 0.17613845, 0.18102971, 0.20841205, 0.20448658],\n",
       "       [0.27419404, 0.15224012, 0.21901841, 0.21654502, 0.13800241],\n",
       "       [0.15506928, 0.15588142, 0.12682366, 0.29003322, 0.27219241],\n",
       "       [0.19469557, 0.15218103, 0.27033991, 0.21833992, 0.16444357]])"
      ]
     },
     "execution_count": 39,
     "metadata": {},
     "output_type": "execute_result"
    }
   ],
   "source": [
    "div_vals = exp_vals / np.sum(exp_vals, axis=-1, keepdims=True)\n",
    "div_vals"
   ]
  },
  {
   "cell_type": "markdown",
   "id": "5b2b76d7",
   "metadata": {},
   "source": [
    "## ReCreating test data"
   ]
  },
  {
   "cell_type": "code",
   "execution_count": 40,
   "id": "317b9398",
   "metadata": {},
   "outputs": [
    {
     "data": {
      "image/png": "[encoded data removed]",
      "text/plain": [
       "<Figure size 700x700 with 1 Axes>"
      ]
     },
     "metadata": {},
     "output_type": "display_data"
    }
   ],
   "source": [
    "X, y = spiral_data(samples=100, classes=3)\n",
    "X.shape, y.shape\n",
    "plt.figure(figsize=(7, 7))\n",
    "plt.scatter(X[:, 0], X[:, 1], c=y, cmap=\"brg\")\n",
    "plt.show()"
   ]
  },
  {
   "cell_type": "code",
   "execution_count": 41,
   "id": "b47b8d94",
   "metadata": {},
   "outputs": [],
   "source": [
    "class LayerDense7:\n",
    "    def __init__(self, n_inputs, n_neurons):\n",
    "        self.weights = 0.01 * np.random.randn(n_inputs, n_neurons)\n",
    "        self.biases = np.zeros((1, n_neurons))\n",
    "    \n",
    "    def forward(self, inputs):\n",
    "        self.output = np.dot(inputs, self.weights) + self.biases\n",
    "        return self.output"
   ]
  },
  {
   "cell_type": "code",
   "execution_count": 42,
   "id": "d78c84bf",
   "metadata": {},
   "outputs": [],
   "source": [
    "class ReluActivation7:\n",
    "\n",
    "    def forward(self, inputs):\n",
    "        self.output = np.maximum(0, inputs)\n",
    "        return self.output"
   ]
  },
  {
   "cell_type": "code",
   "execution_count": 43,
   "id": "a2b1ef52",
   "metadata": {},
   "outputs": [],
   "source": [
    "class SoftmaxActivation7:\n",
    "\n",
    "    def forward(self, inputs):\n",
    "        max_vals = np.max(inputs, axis=-1, keepdims=True)\n",
    "        sub_vals = inputs - max_vals\n",
    "        exp_vals = np.exp(sub_vals)\n",
    "        self.output = exp_vals / np.sum(exp_vals, axis=-1, keepdims=True)\n",
    "        return self.output"
   ]
  },
  {
   "cell_type": "code",
   "execution_count": 44,
   "id": "d2eecd7b",
   "metadata": {},
   "outputs": [
    {
     "name": "stdout",
     "output_type": "stream",
     "text": [
      "(300, 3)\n"
     ]
    }
   ],
   "source": [
    "dense_layer1 = LayerDense7(X.shape[-1], 3)\n",
    "output1 = dense_layer1.forward(X)\n",
    "print(output1.shape)"
   ]
  },
  {
   "cell_type": "code",
   "execution_count": 45,
   "id": "e1609b63",
   "metadata": {},
   "outputs": [
    {
     "name": "stdout",
     "output_type": "stream",
     "text": [
      "(300, 3)\n"
     ]
    }
   ],
   "source": [
    "activation1 = ReluActivation7()\n",
    "output2 = activation1.forward(output1)\n",
    "print(output2.shape)"
   ]
  },
  {
   "cell_type": "code",
   "execution_count": 46,
   "id": "5725af6b",
   "metadata": {},
   "outputs": [
    {
     "name": "stdout",
     "output_type": "stream",
     "text": [
      "(300, 3)\n"
     ]
    }
   ],
   "source": [
    "layer_dense2 = LayerDense7(output2.shape[-1], 3)\n",
    "output3 = layer_dense2.forward(output2)\n",
    "print(output3.shape)"
   ]
  },
  {
   "cell_type": "code",
   "execution_count": 47,
   "id": "6a79a363",
   "metadata": {},
   "outputs": [
    {
     "name": "stdout",
     "output_type": "stream",
     "text": [
      "[0.33333418 0.33333296 0.33333284]\n",
      "0.99999994\n",
      "(300, 3)\n"
     ]
    }
   ],
   "source": [
    "activation2 = SoftmaxActivation7()\n",
    "output4 = activation2.forward(output3)\n",
    "print(output4[4])\n",
    "print(output4[4].sum())\n",
    "print(output4.shape)"
   ]
  },
  {
   "cell_type": "markdown",
   "id": "72d99645",
   "metadata": {},
   "source": [
    "### softmax probabilities add up to 1 along the dimensions (rows) and give indication in terms of percentages with what probability the input coordinade belongs to the 1st class (red) the 2nd class (yellow) or the 3rd class (blue)"
   ]
  },
  {
   "cell_type": "markdown",
   "id": "579c21d0",
   "metadata": {},
   "source": [
    "# L8 Cross Entropy Loss "
   ]
  },
  {
   "cell_type": "markdown",
   "id": "315d88b8",
   "metadata": {},
   "source": [
    "## X Dataset represents the 300 dots which 100 of them belong to 1 of the 3 classes"
   ]
  },
  {
   "cell_type": "code",
   "execution_count": 48,
   "id": "4c3f1372",
   "metadata": {},
   "outputs": [
    {
     "name": "stdout",
     "output_type": "stream",
     "text": [
      "10 Samples of X data:\n",
      "[[ 0.07717041  0.0651749 ]\n",
      " [ 0.10252228 -0.04283526]\n",
      " [ 0.10999716  0.05092153]\n",
      " [ 0.1308109  -0.01147372]\n",
      " [ 0.1307441  -0.05388823]\n",
      " [ 0.12387934 -0.08723961]\n",
      " [ 0.12971598  0.09640305]\n",
      " [ 0.15884957 -0.06521963]\n",
      " [ 0.1475386  -0.10625541]\n",
      " [ 0.16557683 -0.09704273]]\n",
      "Size of complete X-dataset\n",
      "(300, 2)\n"
     ]
    }
   ],
   "source": [
    "samples_10 = X[10:20]\n",
    "print(f\"10 Samples of X data:\\n{samples_10}\\nSize of complete X-dataset\\n{X.shape}\")"
   ]
  },
  {
   "cell_type": "markdown",
   "id": "44afcda6",
   "metadata": {},
   "source": [
    "## since there are 3 classes which have been defined in the spiral dataset, the corresponding y-values encode the labels for the 300 X-values given. "
   ]
  },
  {
   "cell_type": "code",
   "execution_count": 49,
   "id": "fddfd7ca",
   "metadata": {},
   "outputs": [
    {
     "name": "stdout",
     "output_type": "stream",
     "text": [
      "Unique Labels in y-Values:\n",
      "{0, 1, 2}\n",
      "Size of y-Values\n",
      "(300,)\n"
     ]
    }
   ],
   "source": [
    "y_values = set(y)\n",
    "print(f\"Unique Labels in y-Values:\\n{y_values}\\nSize of y-Values\\n{y.shape}\")"
   ]
  },
  {
   "cell_type": "markdown",
   "id": "d86fee70",
   "metadata": {},
   "source": [
    "## for each coordinate pair in X there is a label value in y which encodes which class the data point belongs to"
   ]
  },
  {
   "cell_type": "code",
   "execution_count": 50,
   "id": "44c0266c",
   "metadata": {},
   "outputs": [
    {
     "name": "stdout",
     "output_type": "stream",
     "text": [
      "0-Labels: 100\n",
      "1-Labels: 100\n",
      "2-Labels: 100\n"
     ]
    }
   ],
   "source": [
    "count0 = 0\n",
    "count1 = 0\n",
    "count2 = 0\n",
    "for label in y:\n",
    "    if label == 0:\n",
    "        count0 += 1\n",
    "    if label == 1:\n",
    "        count1 += 1\n",
    "    if label == 2:\n",
    "        count2 += 1\n",
    "print(f\"0-Labels: {count0}\\n1-Labels: {count1}\\n2-Labels: {count2}\")"
   ]
  },
  {
   "cell_type": "code",
   "execution_count": 51,
   "id": "79662900",
   "metadata": {},
   "outputs": [
    {
     "name": "stdout",
     "output_type": "stream",
     "text": [
      "Data Point 11:\n",
      "[ 0.10252228 -0.04283526]\n",
      "Belongs to the class:\n",
      "0\n",
      "\n",
      "Data Point 111:\n",
      "[-0.10982254 -0.01687269]\n",
      "Belongs to the class:\n",
      "1\n",
      "\n",
      "Data Point 222:\n",
      "[-0.09571879 -0.20055081]\n",
      "Belongs to the class:\n",
      "2\n"
     ]
    }
   ],
   "source": [
    "print(f\"Data Point 11:\\n{X[11]}\")\n",
    "print(f\"Belongs to the class:\\n{y[11]}\\n\")\n",
    "print(f\"Data Point 111:\\n{X[111]}\")\n",
    "print(f\"Belongs to the class:\\n{y[111]}\\n\")\n",
    "print(f\"Data Point 222:\\n{X[222]}\")\n",
    "print(f\"Belongs to the class:\\n{y[222]}\")"
   ]
  },
  {
   "cell_type": "code",
   "execution_count": 52,
   "id": "c9c1d11e",
   "metadata": {},
   "outputs": [
    {
     "name": "stdout",
     "output_type": "stream",
     "text": [
      "Data Point 11:\n",
      "[ 0.10252228 -0.04283526]\n",
      "previously classified as: 0\n",
      "Now reptesented by:\n",
      "tensor([1, 0, 0])\n",
      "\n",
      "Data Point 111:\n",
      "[-0.10982254 -0.01687269]\n",
      "previously classified as: 1\n",
      "Now represented by:\n",
      "tensor([0, 1, 0])\n",
      "\n",
      "Data Point 222:\n",
      "[-0.09571879 -0.20055081]\n",
      "previously classified by: 2\n",
      "Now represented by:\n",
      "tensor([0, 0, 1])\n"
     ]
    }
   ],
   "source": [
    "labels = torch.tensor(y).type(torch.LongTensor)\n",
    "one_hot = torch.nn.functional.one_hot(labels)\n",
    "\n",
    "print(f\"Data Point 11:\\n{X[11]}\\npreviously classified as: {y[11]}\\nNow reptesented by:\\n{one_hot[11]}\\n\")\n",
    "print(f\"Data Point 111:\\n{X[111]}\\npreviously classified as: {y[111]}\\nNow represented by:\\n{one_hot[111]}\\n\")\n",
    "print(f\"Data Point 222:\\n{X[222]}\\npreviously classified by: {y[222]}\\nNow represented by:\\n{one_hot[222]}\")"
   ]
  },
  {
   "cell_type": "markdown",
   "id": "416f6f14",
   "metadata": {},
   "source": [
    "## for classification tasks using Categorial Cross Entropy Loss\n",
    "\n",
    "## Example"
   ]
  },
  {
   "cell_type": "code",
   "execution_count": 53,
   "id": "fc6c8a65",
   "metadata": {},
   "outputs": [
    {
     "name": "stdout",
     "output_type": "stream",
     "text": [
      "[0.7 0.5 0.9]\n"
     ]
    }
   ],
   "source": [
    "softmax_outputs = np.array([[0.7, 0.1, 0.2],\n",
    "                            [0.1, 0.5, 0.4],\n",
    "                            [0.02, 0.9, 0.08]])\n",
    "\n",
    "\n",
    "class_targets = [0, 1, 1]\n",
    "print(softmax_outputs[[0, 1, 2], class_targets])"
   ]
  },
  {
   "cell_type": "markdown",
   "id": "c23e8f11",
   "metadata": {},
   "source": [
    "### each value in the 3-dimensional array represents the loss for the particular dimensions of the softmax output\n",
    "### the value 0.35 represents the 70% likelyhood of the 1st row value with true label 0\n",
    "### the value 0.69 represents the 50% likelyhood of the 2nd row value with true label 1\n",
    "### the value 0.11 represents the 90% likelyhood of the 3rd row value with true label 1"
   ]
  },
  {
   "cell_type": "markdown",
   "id": "cbc0f94f",
   "metadata": {},
   "source": [
    "## range function represents numbers [0, 1, 2] for the 3 classes"
   ]
  },
  {
   "cell_type": "markdown",
   "id": "d0dc1cec",
   "metadata": {},
   "source": [
    "## *clever indexing with negative log*"
   ]
  },
  {
   "cell_type": "code",
   "execution_count": 54,
   "id": "9eea3995",
   "metadata": {},
   "outputs": [
    {
     "name": "stdout",
     "output_type": "stream",
     "text": [
      "[0.35667494 0.69314718 0.10536052]\n",
      "0.38506088005216804\n"
     ]
    }
   ],
   "source": [
    "neg_log = -np.log(softmax_outputs[range(len(softmax_outputs)), class_targets])\n",
    "\n",
    "avg_loss = np.mean(neg_log)\n",
    "\n",
    "print(neg_log)\n",
    "print(avg_loss)"
   ]
  },
  {
   "cell_type": "markdown",
   "id": "8ade1ea0",
   "metadata": {},
   "source": [
    "## One Hot Encoding commonly used for classification tasks with Cross Entropy Loss\n",
    "### One Hot Encoding takes the classes as columns and assignes 1 when the label is true and 0 when the label is false\n",
    "\n",
    "### when checking data points the initial input dimension will be 2 for x and y or x1 and x2 coordinates in the 2D Coordinate system, if the data points are categorized into 3 different classes each data point has a label of 0 when it belongs to the first class, 1 if it belongs to the second class or 2 if it belongs to the third class. \n",
    "\n",
    "### In One Hot Encoding the 3 classes are represented as 3 columns and each data point is represented by a row where the true label column is 1 and the false label columns are 0 "
   ]
  },
  {
   "cell_type": "markdown",
   "id": "2321d5fb",
   "metadata": {},
   "source": [
    "## *One Hot Encoding with negative log*"
   ]
  },
  {
   "cell_type": "code",
   "execution_count": 55,
   "id": "fa5e63a8",
   "metadata": {},
   "outputs": [
    {
     "name": "stdout",
     "output_type": "stream",
     "text": [
      "[[0.7]\n",
      " [0.5]\n",
      " [0.9]]\n",
      "\n",
      "[[0.7 0.  0. ]\n",
      " [0.  0.5 0. ]\n",
      " [0.  0.9 0. ]]\n",
      "\n",
      "[0.7 0.5 0.9]\n",
      "\n",
      "[0.35667494 0.69314718 0.10536052]\n",
      "\n",
      "0.38506088005216804\n"
     ]
    }
   ],
   "source": [
    "target_array = np.array([[1, 0, 0],\n",
    "                         [0, 1, 0],\n",
    "                         [0, 1, 0]])\n",
    "\n",
    "prediction_array = np.array([[0.7, 0.1, 0.2],\n",
    "                             [0.1, 0.5, 0.4],\n",
    "                             [0.02, 0.9, 0.08]])\n",
    "\n",
    "probs = target_array * prediction_array\n",
    "row_sums = np.sum(probs, axis=-1)\n",
    "log_vals = - np.log(row_sums)\n",
    "mean = np.mean(log_vals)\n",
    "\n",
    "print(f\"{np.max(probs, axis=-1, keepdims=True)}\\n\")\n",
    "print(f\"{probs}\\n\")\n",
    "print(f\"{row_sums}\\n\")\n",
    "print(f\"{log_vals}\\n\")\n",
    "print(f\"{mean}\")"
   ]
  },
  {
   "cell_type": "markdown",
   "id": "1773d5b6",
   "metadata": {},
   "source": [
    "## Loss class"
   ]
  },
  {
   "cell_type": "code",
   "execution_count": 56,
   "id": "abee3fd6",
   "metadata": {},
   "outputs": [],
   "source": [
    "class Loss:\n",
    "\n",
    "    def calculate(self, output, y):\n",
    "        sample_losses = self.forward(output, y)\n",
    "        data_loss = np.mean(sample_losses)\n",
    "        return data_loss"
   ]
  },
  {
   "cell_type": "markdown",
   "id": "1c8fc102",
   "metadata": {},
   "source": [
    "## Cross Entropy Loss Class"
   ]
  },
  {
   "cell_type": "markdown",
   "id": "3c823e8b",
   "metadata": {},
   "source": [
    "### if length of y_true shape = 1 --> LongTensor with numbers representing the labels (0, 1, 2) --> clever indexing\n",
    "### if length of y_true shape = 2 --> Matrix one hot encoded with 3 columns representing the classes and with the value 1 if when belonging to the specific class"
   ]
  },
  {
   "cell_type": "code",
   "execution_count": 57,
   "id": "2e4e8eed",
   "metadata": {},
   "outputs": [],
   "source": [
    "class LossCategorialCrossEntropy(Loss):\n",
    "\n",
    "    def forward(self, y_pred, y_true):\n",
    "        samples = len(y_pred)\n",
    "        y_pred_clipped = np.clip(y_pred, 1e-7, 1- 1e-7)\n",
    "        if len(y_true.shape) == 1:\n",
    "            correct_confidences = y_pred_clipped[range(samples), y_true]\n",
    "        elif len(y_true.shape) == 2:\n",
    "            correct_confidences = np.sum(y_pred_clipped * y_true, axis=1)\n",
    "        \n",
    "        negative_loglikelyhoods = -np.log(correct_confidences)\n",
    "        return negative_loglikelyhoods"
   ]
  },
  {
   "cell_type": "markdown",
   "id": "6e84c59b",
   "metadata": {},
   "source": [
    "### with one hot encoding"
   ]
  },
  {
   "cell_type": "code",
   "execution_count": 58,
   "id": "44ead281",
   "metadata": {},
   "outputs": [
    {
     "name": "stdout",
     "output_type": "stream",
     "text": [
      "[0.35667494 0.69314718 0.10536052]\n",
      "0.38506088005216804\n"
     ]
    }
   ],
   "source": [
    "sm_output = np.array([[0.7, 0.1, 0.2],\n",
    "                      [0.1, 0.5, 0.4],\n",
    "                      [0.02, 0.9, 0.08]])\n",
    "\n",
    "class_targets_one_hot = np.array([[1, 0, 0],\n",
    "                                  [0, 1, 0],\n",
    "                                  [0, 1, 0]])\n",
    "\n",
    "loss_function = LossCategorialCrossEntropy()\n",
    "probs = loss_function.forward(sm_output, class_targets_one_hot)\n",
    "loss = loss_function.calculate(sm_output, class_targets_one_hot)\n",
    "\n",
    "print(probs)\n",
    "print(loss)\n"
   ]
  },
  {
   "cell_type": "markdown",
   "id": "17506f04",
   "metadata": {},
   "source": [
    "### with clever indexing"
   ]
  },
  {
   "cell_type": "code",
   "execution_count": 59,
   "id": "be6e85c4",
   "metadata": {},
   "outputs": [
    {
     "name": "stdout",
     "output_type": "stream",
     "text": [
      "[0.35667494 0.69314718 0.10536052]\n",
      "0.38506088005216804\n"
     ]
    }
   ],
   "source": [
    "sm_output1 = np.array([[0.7, 0.1, 0.2],\n",
    "                       [0.1, 0.5, 0.4],\n",
    "                       [0.02, 0.9, 0.08]])\n",
    "\n",
    "class_targets1 = np.array([0, 1, 1])\n",
    "\n",
    "loss_function1 = LossCategorialCrossEntropy()\n",
    "probs = loss_function1.forward(sm_output1, class_targets1)\n",
    "loss = loss_function1.calculate(sm_output1, class_targets1)\n",
    "\n",
    "print(probs)\n",
    "print(loss)"
   ]
  },
  {
   "cell_type": "markdown",
   "id": "b054b30d",
   "metadata": {},
   "source": [
    "### creating layers, performing the forward pass, computing the loss and the accuracy"
   ]
  },
  {
   "cell_type": "code",
   "execution_count": 60,
   "id": "c18ced18",
   "metadata": {},
   "outputs": [
    {
     "name": "stdout",
     "output_type": "stream",
     "text": [
      "[[0.33333334 0.33333334 0.33333334]\n",
      " [0.33333305 0.33333343 0.33333355]\n",
      " [0.3333329  0.33333334 0.33333376]\n",
      " [0.33333248 0.3333335  0.33333403]\n",
      " [0.33333254 0.3333333  0.33333415]\n",
      " [0.33333197 0.33333355 0.33333448]\n",
      " [0.33333158 0.33333388 0.3333345 ]\n",
      " [0.3333313  0.33333388 0.33333486]\n",
      " [0.33333105 0.3333338  0.33333516]\n",
      " [0.3333307  0.33333394 0.33333534]]\n",
      "[1.0986123 1.0986131 1.0986136 1.0986148 1.0986147 1.0986164 1.0986176\n",
      " 1.0986184 1.0986191 1.0986202]\n",
      "Loss: 1.0986104011535645\n",
      "Acc: 0.30\n"
     ]
    }
   ],
   "source": [
    "X, y = spiral_data(samples=100, classes=3)\n",
    "\n",
    "denseL1 = LayerDense7(2, 3)\n",
    "activationF1 = ReluActivation7()\n",
    "denseL2 = LayerDense7(3, 3)\n",
    "activationF2 = SoftmaxActivation7()\n",
    "loss_function1 = LossCategorialCrossEntropy()\n",
    "\n",
    "L1dense = denseL1.forward(X)\n",
    "F1activation = activationF1.forward(L1dense)\n",
    "L2dense = denseL2.forward(F1activation)\n",
    "F2activation = activationF2.forward(L2dense)\n",
    "losses = loss_function1.forward(F2activation, y)\n",
    "loss_mean = loss_function.calculate(F2activation, y)\n",
    "\n",
    "predictions = np.argmax(F2activation, axis=1)\n",
    "if len(y.shape) == 2:\n",
    "    y = np.argmax(y, axis=1)\n",
    "accuracy = np.mean(predictions == y)\n",
    "\n",
    "print(F2activation[:10])\n",
    "print(losses[:10])\n",
    "print(f\"Loss: {loss_mean}\")\n",
    "print(f\"Acc: {accuracy:.2f}\")\n"
   ]
  },
  {
   "cell_type": "markdown",
   "id": "573bc5bf",
   "metadata": {},
   "source": [
    "## Accuracy Introduction"
   ]
  },
  {
   "cell_type": "code",
   "execution_count": 61,
   "id": "1e2255b7",
   "metadata": {},
   "outputs": [
    {
     "name": "stdout",
     "output_type": "stream",
     "text": [
      "Acc: 1.0\n"
     ]
    }
   ],
   "source": [
    "import numpy as np\n",
    "\n",
    "sm_output1 = np.array([[0.7, 0.1, 0.2],\n",
    "                       [0.1, 0.5, 0.4],\n",
    "                       [0.02, 0.9, 0.08]])\n",
    "\n",
    "class_targets1 = np.array([0, 1, 1])\n",
    "\n",
    "predictions = np.argmax(sm_output1, axis=1)\n",
    "\n",
    "if len(class_targets1.shape) == 2:\n",
    "    class_targets = np.argmax(class_targets, axis=1)\n",
    "accuracy = np.mean(predictions == class_targets)\n",
    "print(f\"Acc:\", accuracy)"
   ]
  },
  {
   "cell_type": "markdown",
   "id": "238d902c",
   "metadata": {},
   "source": [
    "# L9 Intro to Optimization in NNW"
   ]
  },
  {
   "cell_type": "code",
   "execution_count": 62,
   "id": "480b6ff4",
   "metadata": {},
   "outputs": [
    {
     "data": {
      "image/png": "[encoded data removed]",
      "text/plain": [
       "<Figure size 640x480 with 1 Axes>"
      ]
     },
     "metadata": {},
     "output_type": "display_data"
    }
   ],
   "source": [
    "import matplotlib.pyplot as plt\n",
    "import nnfs\n",
    "from nnfs.datasets import vertical_data\n",
    "nnfs.init()\n",
    "\n",
    "X, y = vertical_data(100, classes=3)\n",
    "plt.scatter(X[:, 0], X[:, 1], c=y, s=40, cmap=\"brg\")\n",
    "plt.show()"
   ]
  },
  {
   "cell_type": "code",
   "execution_count": 63,
   "id": "26044465",
   "metadata": {},
   "outputs": [
    {
     "data": {
      "image/png": "[encoded data removed]",
      "text/plain": [
       "<Figure size 640x480 with 1 Axes>"
      ]
     },
     "metadata": {},
     "output_type": "display_data"
    }
   ],
   "source": [
    "Xs, ys = spiral_data(100, classes=3)\n",
    "plt.scatter(Xs[:, 0], Xs[:, 1], c=y, s=40, cmap=\"brg\")\n",
    "plt.show()"
   ]
  },
  {
   "cell_type": "code",
   "execution_count": 64,
   "id": "d2b3df33",
   "metadata": {},
   "outputs": [],
   "source": [
    "class LayerDense9:\n",
    "    def __init__(self, n_inputs, n_neurons):\n",
    "        self.weights = 0.01 * np.random.randn(n_inputs, n_neurons)\n",
    "        self.biases = np.zeros((1, n_neurons))\n",
    "    \n",
    "    def forward(self, inputs):\n",
    "        self.output = np.dot(inputs, self.weights) + self.biases\n",
    "        return self.output"
   ]
  },
  {
   "cell_type": "code",
   "execution_count": 65,
   "id": "12fc4601",
   "metadata": {},
   "outputs": [],
   "source": [
    "class Relu9:\n",
    "\n",
    "    def forward(self, x):\n",
    "        self.output = np.maximum(0, x)\n",
    "        return self.output"
   ]
  },
  {
   "cell_type": "code",
   "execution_count": 66,
   "id": "26d9648d",
   "metadata": {},
   "outputs": [],
   "source": [
    "class ActivationSoftmax9:\n",
    "\n",
    "    def forward(self, x):\n",
    "        max_vals = np.max(x, axis=-1, keepdims=True)\n",
    "        sub_vals = x - max_vals\n",
    "        exp_vals = np.exp(sub_vals)\n",
    "        self.output = exp_vals / np.sum(exp_vals, axis=-1, keepdims=True)\n",
    "        return self.output"
   ]
  },
  {
   "cell_type": "code",
   "execution_count": 67,
   "id": "2234f2cf",
   "metadata": {},
   "outputs": [],
   "source": [
    "class Loss9:\n",
    "    \n",
    "    def calculate(self, output, y):\n",
    "        sample_loss = self.forward(output, y)\n",
    "        data_loss = np.mean(sample_loss)\n",
    "        return data_loss"
   ]
  },
  {
   "cell_type": "code",
   "execution_count": 68,
   "id": "4f00f235",
   "metadata": {},
   "outputs": [],
   "source": [
    "class CrossEntropy9(Loss9):\n",
    "    \n",
    "    def forward(self, y_preds, y_true):\n",
    "        samples = len(y_preds)\n",
    "        y_preds_clipped = np.clip(y_preds, 1e-7, 1 - 1e-7)\n",
    "        if len(y_true.shape) == 1:\n",
    "            correct_confidence = y_preds_clipped[range(samples), y_true]\n",
    "        elif len(y_true.shape) == 2:\n",
    "            correct_confidence = np.sum(y_preds_clipped * y_true, axis=-1)\n",
    "        \n",
    "        negative_loglikelyhood = - np.log(correct_confidence)\n",
    "        return negative_loglikelyhood"
   ]
  },
  {
   "cell_type": "code",
   "execution_count": 69,
   "id": "7b33f731",
   "metadata": {},
   "outputs": [],
   "source": [
    "dense1 = LayerDense9(2, 3)\n",
    "activation1 = Relu9()\n",
    "dense2 = LayerDense9(3, 3)\n",
    "activation2 = ActivationSoftmax9()\n",
    "loss_function = CrossEntropy9()"
   ]
  },
  {
   "cell_type": "code",
   "execution_count": 70,
   "id": "a906cb88",
   "metadata": {},
   "outputs": [],
   "source": [
    "lowest_loss = 999999\n",
    "best_dense1_weights = dense1.weights.copy()\n",
    "best_dense1_biases = dense1.biases.copy()\n",
    "best_dense2_weights = dense2.weights.copy()\n",
    "best_dense2_biases = dense2.biases.copy()"
   ]
  },
  {
   "cell_type": "markdown",
   "id": "9481ff8a",
   "metadata": {},
   "source": [
    "## Strategy 1: select weights and biases randomly -> resulting in no optimization"
   ]
  },
  {
   "cell_type": "code",
   "execution_count": 71,
   "id": "e13ec507",
   "metadata": {},
   "outputs": [
    {
     "name": "stdout",
     "output_type": "stream",
     "text": [
      "Iteration: 0 Loss: 1.0990946 Accuracy: 0.3333333333333333\n",
      "Iteration: 2 Loss: 1.0987197 Accuracy: 0.3333333333333333\n",
      "Iteration: 14 Loss: 1.0985042 Accuracy: 0.3333333333333333\n",
      "Iteration: 29 Loss: 1.098088 Accuracy: 0.3333333333333333\n",
      "Iteration: 66 Loss: 1.0979891 Accuracy: 0.3333333333333333\n",
      "Iteration: 89 Loss: 1.0978057 Accuracy: 0.3333333333333333\n"
     ]
    }
   ],
   "source": [
    "for iteration in range(100):\n",
    "    dense1.weights = 0.05 * np.random.randn(2, 3)\n",
    "    dense1.biases = 0.05 * np.random.randn(1, 3)\n",
    "    dense2.weights = 0.05 * np.random.randn(3, 3)\n",
    "    dense2.biases = 0.05 * np.random.randn(1, 3)\n",
    "\n",
    "    output1 = dense1.forward(X)\n",
    "    act1 = activation1.forward(output1)\n",
    "    output2 = dense2.forward(act1)\n",
    "    act2 = activation2.forward(output2)\n",
    "    loss = loss_function.calculate(act2, y)\n",
    "\n",
    "    predictions = np.argmax(act2, axis=-1)\n",
    "    accuracy = np.mean(predictions == y)\n",
    "\n",
    "    if loss < lowest_loss:\n",
    "        print(\"Iteration:\", iteration, \"Loss:\", loss, \"Accuracy:\", accuracy)\n",
    "        best_dense1_weights = dense1.weights.copy()\n",
    "        best_dense1_biases = dense1.biases.copy()\n",
    "        best_dense2_weights = dense2.weights.copy()\n",
    "        best_dense2_biases = dense2.biases.copy()\n",
    "        lowest_loss = loss"
   ]
  },
  {
   "cell_type": "code",
   "execution_count": 72,
   "id": "31e35e7b",
   "metadata": {},
   "outputs": [],
   "source": [
    "dense1 = LayerDense9(2, 3)\n",
    "activation1 = Relu9()\n",
    "dense2 = LayerDense9(3, 3)\n",
    "activation2 = ActivationSoftmax9()\n",
    "loss_function = CrossEntropy9()"
   ]
  },
  {
   "cell_type": "code",
   "execution_count": 73,
   "id": "d7e48715",
   "metadata": {},
   "outputs": [],
   "source": [
    "lowest_loss = 9999999\n",
    "best_dense1_weights = dense1.weights.copy()\n",
    "best_dense1_biases = dense1.biases.copy()\n",
    "best_dense2_weights = dense2.weights.copy()\n",
    "best_dense2_biases = dense2.biases.copy()"
   ]
  },
  {
   "cell_type": "markdown",
   "id": "5180c3db",
   "metadata": {},
   "source": [
    "## Strategy 2: adjust weigts and biases randomly -> working fine for vertical dataset but does not work for spiral dataset (lacks robustness)"
   ]
  },
  {
   "cell_type": "code",
   "execution_count": 74,
   "id": "f7b4649a",
   "metadata": {},
   "outputs": [
    {
     "name": "stdout",
     "output_type": "stream",
     "text": [
      "Iteration: 0 Loss: 1.0988183 Accuracy: 0.3333333333333333\n",
      "Iteration: 5 Loss: 1.0987344 Accuracy: 0.3333333333333333\n",
      "Iteration: 6 Loss: 1.098645 Accuracy: 0.3333333333333333\n",
      "Iteration: 7 Loss: 1.0979763 Accuracy: 0.33666666666666667\n",
      "Iteration: 18 Loss: 1.0979431 Accuracy: 0.3333333333333333\n",
      "Iteration: 21 Loss: 1.0971193 Accuracy: 0.34\n",
      "Iteration: 24 Loss: 1.0970203 Accuracy: 0.3333333333333333\n",
      "Iteration: 25 Loss: 1.0970019 Accuracy: 0.33666666666666667\n",
      "Iteration: 31 Loss: 1.0967329 Accuracy: 0.3333333333333333\n",
      "Iteration: 36 Loss: 1.0957471 Accuracy: 0.41333333333333333\n",
      "Iteration: 41 Loss: 1.0950627 Accuracy: 0.3566666666666667\n",
      "Iteration: 53 Loss: 1.093493 Accuracy: 0.34\n",
      "Iteration: 65 Loss: 1.0931746 Accuracy: 0.38\n",
      "Iteration: 70 Loss: 1.0931547 Accuracy: 0.35333333333333333\n",
      "Iteration: 72 Loss: 1.0922836 Accuracy: 0.3933333333333333\n",
      "Iteration: 73 Loss: 1.0908744 Accuracy: 0.35333333333333333\n",
      "Iteration: 74 Loss: 1.0902166 Accuracy: 0.39\n",
      "Iteration: 78 Loss: 1.0900012 Accuracy: 0.36\n",
      "Iteration: 80 Loss: 1.0894681 Accuracy: 0.3333333333333333\n",
      "Iteration: 83 Loss: 1.0889008 Accuracy: 0.4266666666666667\n",
      "Iteration: 91 Loss: 1.087376 Accuracy: 0.37333333333333335\n",
      "Iteration: 92 Loss: 1.0865338 Accuracy: 0.4\n",
      "Iteration: 93 Loss: 1.0862567 Accuracy: 0.39\n",
      "Iteration: 96 Loss: 1.0842335 Accuracy: 0.39\n",
      "Iteration: 99 Loss: 1.0833311 Accuracy: 0.41333333333333333\n"
     ]
    }
   ],
   "source": [
    "for iteration in range(100):\n",
    "    dense1.weights += 0.05 * np.random.randn(2, 3)\n",
    "    dense1.biases += 0.05 * np.random.randn(1, 3)\n",
    "    dense2.weights += 0.05 * np.random.randn(3, 3)\n",
    "    dense2.biases += 0.05 * np.random.randn(1, 3)\n",
    "\n",
    "    output1 = dense1.forward(Xs)\n",
    "    act1 = activation1.forward(output1)\n",
    "    output2 = dense2.forward(act1)\n",
    "    act2 = activation2.forward(output2)\n",
    "    loss = loss_function.calculate(act2, ys)\n",
    "\n",
    "    predictions = np.argmax(act2, axis=-1)\n",
    "    accuracy = np.mean(predictions == ys)\n",
    "\n",
    "    if loss < lowest_loss:\n",
    "        print(\"Iteration:\", iteration, \"Loss:\", loss, \"Accuracy:\", accuracy)\n",
    "        best_dense1_weights = dense1.weights.copy()\n",
    "        best_dense1_biases = dense1.biases.copy()\n",
    "        best_dense2_weights = dense2.weights.copy()\n",
    "        best_dense2_biases = dense2.biases.copy()\n",
    "        lowest_loss = loss\n",
    "    else:\n",
    "        dense1.weights = best_dense1_weights.copy()\n",
    "        dense1.biases = best_dense1_biases.copy()\n",
    "        dense2.weights = best_dense2_weights.copy()\n",
    "        dense2.biases = best_dense2_biases.copy()"
   ]
  },
  {
   "cell_type": "markdown",
   "id": "31b2606d",
   "metadata": {},
   "source": [
    "# L 10 Derivaties, Partial Derivaties and Gradient in NNWs"
   ]
  },
  {
   "cell_type": "markdown",
   "id": "f7efab63",
   "metadata": {},
   "source": [
    "### Derivate to find the slop of the tangent at a specific point"
   ]
  },
  {
   "cell_type": "markdown",
   "id": "1fc8a52b",
   "metadata": {},
   "source": [
    "### Partial Derivate to find the slop of the tangent at a specific point along a specific axis"
   ]
  },
  {
   "cell_type": "markdown",
   "id": "b78a1181",
   "metadata": {},
   "source": [
    "### Gradient is a matrix with all partial derivates stacked"
   ]
  },
  {
   "cell_type": "markdown",
   "id": "b8b18093",
   "metadata": {},
   "source": [
    "# L 11 Chain Rule"
   ]
  },
  {
   "cell_type": "markdown",
   "id": "41bf11d2",
   "metadata": {},
   "source": [
    "## y = f( g ( x ) ) ---> dy / dx = f' * g'"
   ]
  },
  {
   "cell_type": "markdown",
   "id": "ac9296f2",
   "metadata": {},
   "source": [
    "# L 12 Backpropagation Neuron"
   ]
  },
  {
   "cell_type": "code",
   "execution_count": 75,
   "id": "d3d1d029",
   "metadata": {},
   "outputs": [
    {
     "name": "stdout",
     "output_type": "stream",
     "text": [
      "Iteration 1, Loss: 36.0\n",
      "Iteration 2, Loss: 33.872397424621624\n",
      "Iteration 3, Loss: 31.87054345809546\n",
      "Iteration 4, Loss: 29.98699091998773\n",
      "Iteration 5, Loss: 28.214761511794592\n",
      "Iteration 6, Loss: 26.54726775906168\n",
      "Iteration 7, Loss: 24.978326552541866\n",
      "Iteration 8, Loss: 23.5021050739742\n",
      "Iteration 9, Loss: 22.11313179151597\n",
      "Iteration 10, Loss: 20.806246424284897\n",
      "Iteration 11, Loss: 19.576596334671486\n",
      "Iteration 12, Loss: 18.41961908608719\n",
      "Iteration 13, Loss: 17.33101994032309\n",
      "Iteration 14, Loss: 16.306757070164853\n",
      "Iteration 15, Loss: 15.343027506224132\n",
      "Iteration 16, Loss: 14.436253786815284\n",
      "Iteration 17, Loss: 13.583071280700132\n",
      "Iteration 18, Loss: 12.780312744165439\n",
      "Iteration 19, Loss: 12.024995767388878\n",
      "Iteration 20, Loss: 11.314319082257104\n",
      "Final weights: [-3.18248226 -0.63503547  1.45255321]\n",
      "Final bias: 0.8175177371478247\n"
     ]
    }
   ],
   "source": [
    "inputs = np.array([1., -2., 3.])\n",
    "weights = np.array([-3., -1., 2.])\n",
    "bias = 1\n",
    "target_output = 0.0\n",
    "learning_rate = 0.001\n",
    "\n",
    "def relu(x):\n",
    "    return np.maximum(0, x)\n",
    "\n",
    "def relu_derivative(x):\n",
    "    return np.where(x > 1, 1.0, 0.0)\n",
    "\n",
    "for iteration in range(20):\n",
    "    linear_output = np.dot(weights, inputs) + bias\n",
    "    output = relu(linear_output)\n",
    "    loss = (output - target_output) ** 2\n",
    "\n",
    "    dloss_doutput = 2 * (output - target_output)\n",
    "    doutput_dlinear = relu_derivative(linear_output)\n",
    "    dlinear_dweights = inputs\n",
    "    dlinear_dbias = 1.0\n",
    "\n",
    "    dloss_dlinear = dloss_doutput * doutput_dlinear\n",
    "    dloss_dweights = dloss_dlinear * dlinear_dweights\n",
    "    dloss_dbias = dloss_dlinear * dlinear_dbias\n",
    "\n",
    "    weights -= learning_rate * dloss_dweights\n",
    "    bias -= learning_rate * dloss_dbias\n",
    "\n",
    "    print(f\"Iteration {iteration + 1}, Loss: {loss}\")\n",
    "\n",
    "print(\"Final weights:\", weights)\n",
    "print(\"Final bias:\", bias)"
   ]
  },
  {
   "cell_type": "markdown",
   "id": "808e8e0a",
   "metadata": {},
   "source": [
    "# L 13 Backpropagation Layer"
   ]
  },
  {
   "cell_type": "code",
   "execution_count": 76,
   "id": "650dc2d4",
   "metadata": {},
   "outputs": [
    {
     "name": "stdout",
     "output_type": "stream",
     "text": [
      "Iteration 0, Loss: 466.56000000000006\n",
      "Iteration 20, Loss: 5.329595763793193\n",
      "Iteration 40, Loss: 0.41191524253483786\n",
      "Iteration 60, Loss: 0.03183621475376345\n",
      "Iteration 80, Loss: 0.002460565405431671\n",
      "Iteration 100, Loss: 0.0001901729121621426\n",
      "Iteration 120, Loss: 1.4698120139337557e-05\n",
      "Iteration 140, Loss: 1.1359948840900371e-06\n",
      "Iteration 160, Loss: 8.779778427447647e-08\n",
      "Iteration 180, Loss: 6.785903626216421e-09\n",
      "Final weights:\n",
      " [[-0.00698895 -0.0139779  -0.02096685 -0.0279558 ]\n",
      " [ 0.25975286  0.11950571 -0.02074143 -0.16098857]\n",
      " [ 0.53548461  0.27096922  0.00645383 -0.25806156]]\n",
      "Final biases:\n",
      " [[-0.00698895 -0.04024714 -0.06451539]]\n"
     ]
    }
   ],
   "source": [
    "inputs = np.array([[1, 2, 3, 4]])\n",
    "\n",
    "weights = np.array([[0.1, 0.2, 0.3, 0.4],\n",
    "                    [0.5, 0.6, 0.7, 0.8],\n",
    "                    [0.9, 1.0, 1.1, 1.2]])\n",
    "\n",
    "biases = np.array([[0.1, 0.2, 0.3]])\n",
    "\n",
    "learning_rate = 0.001\n",
    "\n",
    "\n",
    "def relu(x):\n",
    "    return np.maximum(0, x)\n",
    "\n",
    "\n",
    "def relu_derivative(x):\n",
    "    return np.where(x > 0, 1, 0)\n",
    "\n",
    "\n",
    "for iteration in range(200):\n",
    "    # Forward Pass\n",
    "    z = np.dot(inputs, weights.T) + biases\n",
    "    a = relu(z)\n",
    "    y = np.sum(a)\n",
    "\n",
    "    loss = y ** 2\n",
    "\n",
    "    # Backward Pass\n",
    "    dL_dy = 2 * y\n",
    "\n",
    "    dy_da = np.ones_like(a)\n",
    "    dL_da = dL_dy * dy_da\n",
    "\n",
    "    da_dz = relu_derivative(z)\n",
    "    dL_dz = dL_da * da_dz\n",
    "\n",
    "    dL_dW = np.outer(dL_dz, inputs)\n",
    "    dL_db = dL_dz\n",
    "\n",
    "    weights -= learning_rate * dL_dW\n",
    "    biases -= learning_rate * dL_db\n",
    "\n",
    "    if iteration % 20 == 0:\n",
    "        print(f\"Iteration {iteration}, Loss: {loss}\")\n",
    "\n",
    "print(\"Final weights:\\n\", weights)\n",
    "print(\"Final biases:\\n\", biases)\n"
   ]
  },
  {
   "cell_type": "markdown",
   "id": "d5a17267",
   "metadata": {},
   "source": [
    "# L 14 Matrices in Backpropagation"
   ]
  },
  {
   "cell_type": "markdown",
   "id": "707d2de3",
   "metadata": {},
   "source": [
    "## for batches of input, find the partial derivative of the loss with respect to the weights\n",
    "\n",
    "## x.T * dL_dz"
   ]
  },
  {
   "cell_type": "markdown",
   "id": "e46179b3",
   "metadata": {},
   "source": [
    "# L 15 Input derivatives in Backpropagation"
   ]
  },
  {
   "cell_type": "markdown",
   "id": "555b7b3a",
   "metadata": {},
   "source": [
    "## for batches of input, find the partial drivative of the loss with respect to the input dimensions\n",
    "\n",
    "## dL_dz * weights.T"
   ]
  },
  {
   "cell_type": "markdown",
   "id": "5cb773f4",
   "metadata": {},
   "source": [
    "# L 16 Backpropagation Building Blocks"
   ]
  },
  {
   "cell_type": "markdown",
   "id": "a0e93840",
   "metadata": {},
   "source": [
    "## partial derivatives of loss with respect to the weights"
   ]
  },
  {
   "cell_type": "code",
   "execution_count": 77,
   "id": "c438e74c",
   "metadata": {},
   "outputs": [
    {
     "name": "stdout",
     "output_type": "stream",
     "text": [
      "X transposed shape:\n",
      "(4, 3)\n",
      "dL_dz Matrix shape:\n",
      "(3, 3)\n",
      "\n",
      "dL_dw:\n",
      "[[ 0.5  0.5  0.5]\n",
      " [20.1 20.1 20.1]\n",
      " [10.9 10.9 10.9]\n",
      " [ 4.1  4.1  4.1]]\n",
      "dL_dw Matrix shape: (4, 3)\n"
     ]
    }
   ],
   "source": [
    "d_values = np.array([[1, 1, 1],\n",
    "                     [2, 2, 2],\n",
    "                     [3, 3, 3]])\n",
    "\n",
    "inputs = np.array([[1, 2, 3, 2.5],\n",
    "                   [2, 5, -1, 2],\n",
    "                   [-1.5, 2.7, 3.3, -0.8]])\n",
    "\n",
    "\n",
    "d_weights = np.dot(inputs.T, d_values)\n",
    "\n",
    "print(f\"X transposed shape:\\n{inputs.T.shape}\\ndL_dz Matrix shape:\\n{d_values.shape}\\n\")\n",
    "print(f\"dL_dw:\\n{d_weights}\\ndL_dw Matrix shape: {d_weights.shape}\")\n"
   ]
  },
  {
   "cell_type": "markdown",
   "id": "ffc57dfa",
   "metadata": {},
   "source": [
    "## partial derivatives of loss with respect to the biases"
   ]
  },
  {
   "cell_type": "code",
   "execution_count": 78,
   "id": "5a3a34ad",
   "metadata": {},
   "outputs": [
    {
     "name": "stdout",
     "output_type": "stream",
     "text": [
      "[[6 6 6]]\n",
      "(1, 3)\n"
     ]
    }
   ],
   "source": [
    "d_values = np.array([[1, 1, 1],\n",
    "                     [2, 2, 2],\n",
    "                     [3, 3, 3]])\n",
    "\n",
    "biases = np.sum(d_values, axis=0, keepdims=True)\n",
    "print(f\"{biases}\\n{biases.shape}\")"
   ]
  },
  {
   "cell_type": "markdown",
   "id": "022680f4",
   "metadata": {},
   "source": [
    "## partial derivatives of loss with respect to the inputs"
   ]
  },
  {
   "cell_type": "code",
   "execution_count": 79,
   "id": "ce384c05",
   "metadata": {},
   "outputs": [
    {
     "name": "stdout",
     "output_type": "stream",
     "text": [
      "dL_dx:\n",
      "[[ 0.44 -0.38 -0.07  1.37]\n",
      " [ 0.88 -0.76 -0.14  2.74]\n",
      " [ 1.32 -1.14 -0.21  4.11]]\n"
     ]
    }
   ],
   "source": [
    "d_values = np.array([[1, 1, 1],\n",
    "                     [2, 2, 2],\n",
    "                     [3, 3, 3]])\n",
    "\n",
    "weights = np.array([[0.2, 0.5, -0.26],\n",
    "                    [0.8, -0.91, -0.27],\n",
    "                    [-0.5, 0.26, 0.17],\n",
    "                    [1, -0.5, 0.87]])\n",
    "\n",
    "dinputs = np.dot(d_values, weights.T)\n",
    "\n",
    "print(f\"dL_dx:\\n{dinputs}\")"
   ]
  },
  {
   "cell_type": "markdown",
   "id": "ff4e6203",
   "metadata": {},
   "source": [
    "## adding backward method to the layer dense class"
   ]
  },
  {
   "cell_type": "code",
   "execution_count": 80,
   "id": "bef3ff4e",
   "metadata": {},
   "outputs": [
    {
     "name": "stdout",
     "output_type": "stream",
     "text": [
      "(300, 3)\n"
     ]
    }
   ],
   "source": [
    "import torch \n",
    "from torch import nn\n",
    "\n",
    "class LayerDense16:\n",
    "    def __init__(self, in_dim, out_dim):\n",
    "        self.weights = 0.01 * np.random.randn(in_dim, out_dim)\n",
    "        self.biases = np.zeros((1, out_dim))\n",
    "    \n",
    "    def forward(self, x):\n",
    "        self.input = x\n",
    "        self.output = np.dot(x, self.weights) + self.biases\n",
    "        return self.output\n",
    "    \n",
    "    def backward(self, d_values):\n",
    "        self.dweights = np.dot(self.input.T, d_values)\n",
    "        self.dbiases = np.sum(d_values, axis=0, keepdims=True)\n",
    "        self.dinputs = np.dot(d_values, self.dweights.T)\n",
    "        return self.dinputs\n",
    "\n",
    "X, y = spiral_data(samples=100, classes=3)\n",
    "dense16 = LayerDense16(2, 3)\n",
    "d_values = (dense16.forward(X))\n",
    "dense16.backward(d_values)\n",
    "\n",
    "print(d_values.shape)\n"
   ]
  },
  {
   "cell_type": "markdown",
   "id": "9d161e89",
   "metadata": {},
   "source": [
    "# L 17 Backpropagation on RELU Activation Function"
   ]
  },
  {
   "cell_type": "markdown",
   "id": "68cdfc6f",
   "metadata": {},
   "source": [
    "## implemented backward method in relu class"
   ]
  },
  {
   "cell_type": "code",
   "execution_count": 81,
   "id": "602a2dc0",
   "metadata": {},
   "outputs": [],
   "source": [
    "class Relu17:\n",
    "\n",
    "    def forward(self, inputs):\n",
    "        self.inputs = inputs\n",
    "        self.output = np.maximum(0, inputs)\n",
    "        return self.output\n",
    "    \n",
    "    def backward(self, dvalues):\n",
    "        self.dinputs = dvalues.copy()\n",
    "        self.dinputs[self.inputs <= 0] = 0  "
   ]
  },
  {
   "cell_type": "markdown",
   "id": "0c63c206",
   "metadata": {},
   "source": [
    "# L 18 Categorail Cross Entropy Loss"
   ]
  },
  {
   "cell_type": "code",
   "execution_count": 82,
   "id": "e0dfc060",
   "metadata": {},
   "outputs": [
    {
     "name": "stdout",
     "output_type": "stream",
     "text": [
      "3\n",
      "4\n"
     ]
    }
   ],
   "source": [
    "test_vals = np.array([[1, 2, 3, 4],\n",
    "                      [2, 3, 4, 5],\n",
    "                      [3, 4, 5, 6]])\n",
    "\n",
    "samples = len(test_vals)\n",
    "labels = len(test_vals[0])\n",
    "\n",
    "print(samples)\n",
    "print(labels)"
   ]
  },
  {
   "cell_type": "code",
   "execution_count": 83,
   "id": "2d379f04",
   "metadata": {},
   "outputs": [],
   "source": [
    "class Loss18:\n",
    "    \n",
    "    def calculate(self, output, y):\n",
    "        sample_loss = self.forward(output, y)\n",
    "        data_loss = np.mean(sample_loss)\n",
    "        return data_loss"
   ]
  },
  {
   "cell_type": "code",
   "execution_count": 84,
   "id": "be465b3a",
   "metadata": {},
   "outputs": [],
   "source": [
    "class CrossEntropy18(Loss18):\n",
    "    \n",
    "    def forward(self, y_preds, y_true):\n",
    "        samples = len(y_preds)\n",
    "        y_preds_clipped = np.clip(y_preds, 1e-7, 1 - 1e-7)\n",
    "        if len(y_true.shape) == 1:\n",
    "            correct_confidence = y_preds_clipped[range(samples), y_true]\n",
    "        elif len(y_true.shape) == 2:\n",
    "            correct_confidence = np.sum(y_preds_clipped * y_true, axis=-1)\n",
    "        \n",
    "        negative_loglikelyhood = - np.log(correct_confidence)\n",
    "        return negative_loglikelyhood\n",
    "    \n",
    "    def backward(self, dvalues, y_true):\n",
    "        samples = len(dvalues)\n",
    "        labels = len(dvalues[0])\n",
    "        if len(y_true.shape) == 1:\n",
    "            y_true = np.eye(labels)[y_true]\n",
    "            self.dinputs = -y_true / dvalues\n",
    "            self.dinputs = self.dinputs / samples"
   ]
  },
  {
   "cell_type": "markdown",
   "id": "11c1a53a",
   "metadata": {},
   "source": [
    "# L 19 Combined Backpropagation Loss Function X Softmax"
   ]
  },
  {
   "cell_type": "code",
   "execution_count": 85,
   "id": "17eb1ced",
   "metadata": {},
   "outputs": [],
   "source": [
    "class ActivationSoftmax19:\n",
    "\n",
    "    def forward(self, x):\n",
    "        max_vals = np.max(x, axis=-1, keepdims=True)\n",
    "        sub_vals = x - max_vals\n",
    "        exp_vals = np.exp(sub_vals)\n",
    "        self.output = exp_vals / np.sum(exp_vals, axis=-1, keepdims=True)\n",
    "        return self.output"
   ]
  },
  {
   "cell_type": "code",
   "execution_count": 86,
   "id": "a3549088",
   "metadata": {},
   "outputs": [],
   "source": [
    "class ActivationSoftmaxLossCategorialCrossEntropy:\n",
    "    def __init__(self):\n",
    "        self.activation = ActivationSoftmax9()\n",
    "        self.loss = CrossEntropy18()\n",
    "\n",
    "    def forward(self, inputs, y_true):\n",
    "        self.activation.forward(inputs)\n",
    "        self.output = self.activation.output\n",
    "        return self.loss.calculate(self.output, y_true)\n",
    "    \n",
    "    def backward(self, dvalues, y_true):\n",
    "        samples = len(dvalues)\n",
    "        if len(y_true.shape) == 2:\n",
    "            y_true = np.argmax(y_true, axis=1)\n",
    "        self.dinputs = dvalues.copy()\n",
    "        self.dinputs[range(samples), y_true] -= 1\n",
    "        self.dinputs = self.dinputs / samples"
   ]
  },
  {
   "cell_type": "code",
   "execution_count": 87,
   "id": "fa40bf1a",
   "metadata": {},
   "outputs": [
    {
     "name": "stdout",
     "output_type": "stream",
     "text": [
      "Gradients: combined loss and activation:\n",
      "[[-0.1         0.03333333  0.06666667]\n",
      " [ 0.03333333 -0.16666667  0.13333333]\n",
      " [ 0.00666667 -0.03333333  0.02666667]]\n",
      "(3, 3)\n"
     ]
    }
   ],
   "source": [
    "softmax_op = np.array([[0.7, 0.1, 0.2],\n",
    "                       [0.1, 0.5, 0.4],\n",
    "                       [0.02, 0.9, 0.08]])\n",
    "\n",
    "class_targets = np.array([0, 1, 1])\n",
    "softmax_loss = ActivationSoftmaxLossCategorialCrossEntropy()\n",
    "softmax_loss.backward(softmax_op, class_targets)\n",
    "dvalues1 = softmax_loss.dinputs\n",
    "\n",
    "print(\"Gradients: combined loss and activation:\")\n",
    "print(dvalues1)\n",
    "print(dvalues1.shape)"
   ]
  }
 ],
 "metadata": {
  "kernelspec": {
   "display_name": "llm_built_steps",
   "language": "python",
   "name": "python3"
  },
  "language_info": {
   "codemirror_mode": {
    "name": "ipython",
    "version": 3
   },
   "file_extension": ".py",
   "mimetype": "text/x-python",
   "name": "python",
   "nbconvert_exporter": "python",
   "pygments_lexer": "ipython3",
   "version": "3.11.13"
  }
 },
 "nbformat": 4,
 "nbformat_minor": 5
}
